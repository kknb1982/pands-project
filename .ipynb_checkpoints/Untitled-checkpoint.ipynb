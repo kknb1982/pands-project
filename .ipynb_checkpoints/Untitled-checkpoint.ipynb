{
 "cells": [
  {
   "cell_type": "markdown",
   "id": "323e8e81",
   "metadata": {},
   "source": [
    "# Introduction"
   ]
  },
  {
   "cell_type": "markdown",
   "id": "5cd7f0f0",
   "metadata": {},
   "source": [
    "# The Fisher's Iris Dataset"
   ]
  },
  {
   "cell_type": "markdown",
   "id": "f7e8cc71",
   "metadata": {},
   "source": [
    "## What is Fisher's Iris Dataset?"
   ]
  },
  {
   "cell_type": "markdown",
   "id": "becc5fe4",
   "metadata": {},
   "source": [
    "## Where can it be located?"
   ]
  },
  {
   "cell_type": "markdown",
   "id": "bc4fad91",
   "metadata": {},
   "source": [
    "## What are its uses?"
   ]
  },
  {
   "cell_type": "markdown",
   "id": "7f188792",
   "metadata": {},
   "source": [
    "# Analysing data with Python"
   ]
  },
  {
   "cell_type": "markdown",
   "id": "c6e0befc",
   "metadata": {},
   "source": [
    "# How to run the code"
   ]
  },
  {
   "cell_type": "markdown",
   "id": "64c7600f",
   "metadata": {},
   "source": [
    "# Analysing Fisher's Iris Dataset\n",
    "## Summary text file\n",
    "A summary of rach variable to a single text file\n",
    "\n",
    "## Histogram of each variable\n",
    "Historgrams to be saved to the repository\n",
    "\n",
    "## Scatterplots of pairs of variables\n",
    "To be saved in the repository\n",
    "\n",
    "## examples of interesting analyses that others have pursued based on \n",
    "the data set will be discussed"
   ]
  },
  {
   "cell_type": "markdown",
   "id": "748131ea",
   "metadata": {},
   "source": [
    "# References"
   ]
  }
 ],
 "metadata": {
  "kernelspec": {
   "display_name": "Python 3 (ipykernel)",
   "language": "python",
   "name": "python3"
  },
  "language_info": {
   "codemirror_mode": {
    "name": "ipython",
    "version": 3
   },
   "file_extension": ".py",
   "mimetype": "text/x-python",
   "name": "python",
   "nbconvert_exporter": "python",
   "pygments_lexer": "ipython3",
   "version": "3.9.13"
  }
 },
 "nbformat": 4,
 "nbformat_minor": 5
}
