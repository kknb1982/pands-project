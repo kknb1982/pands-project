{
 "cells": [
  {
   "cell_type": "markdown",
   "id": "c13b260c",
   "metadata": {},
   "source": [
    "# Contents"
   ]
  },
  {
   "cell_type": "markdown",
   "id": "b303ee72",
   "metadata": {},
   "source": [
    "# Introduction"
   ]
  },
  {
   "cell_type": "markdown",
   "id": "554e9a32",
   "metadata": {},
   "source": [
    "# The Fisher's Iris Dataset"
   ]
  },
  {
   "cell_type": "markdown",
   "id": "2a5606bb",
   "metadata": {},
   "source": [
    "## What is Fisher's Iris Dataset?"
   ]
  },
  {
   "cell_type": "markdown",
   "id": "fc9e1432",
   "metadata": {},
   "source": [
    "## Where can it be located?"
   ]
  },
  {
   "cell_type": "markdown",
   "id": "78d39456",
   "metadata": {},
   "source": [
    "## What are its uses?"
   ]
  },
  {
   "cell_type": "markdown",
   "id": "0ce9128f",
   "metadata": {},
   "source": [
    "# Analysing data with Python"
   ]
  },
  {
   "cell_type": "markdown",
   "id": "23870f2f",
   "metadata": {},
   "source": [
    "# How to run the code"
   ]
  },
  {
   "cell_type": "markdown",
   "id": "d4607a94",
   "metadata": {},
   "source": [
    "# Analysing Fisher's Iris Dataset\n",
    "## Summary text file\n",
    "A summary of rach variable to a single text file\n",
    "\n",
    "## Histogram of each variable\n",
    "Historgrams to be saved to the repository\n",
    "\n",
    "## Scatterplots of pairs of variables\n",
    "To be saved in the repository\n",
    "\n",
    "## examples of interesting analyses that others have pursued based on \n",
    "the data set will be discussed"
   ]
  },
  {
   "cell_type": "markdown",
   "id": "ef58e036",
   "metadata": {},
   "source": [
    "# References"
   ]
  }
 ],
 "metadata": {
  "kernelspec": {
   "display_name": "Python 3 (ipykernel)",
   "language": "python",
   "name": "python3"
  },
  "language_info": {
   "codemirror_mode": {
    "name": "ipython",
    "version": 3
   },
   "file_extension": ".py",
   "mimetype": "text/x-python",
   "name": "python",
   "nbconvert_exporter": "python",
   "pygments_lexer": "ipython3",
   "version": "3.9.13"
  }
 },
 "nbformat": 4,
 "nbformat_minor": 5
}
