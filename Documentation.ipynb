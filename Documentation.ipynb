{
 "cells": [
  {
   "cell_type": "markdown",
   "id": "323e8e81",
   "metadata": {},
   "source": [
    "# Introduction\n",
    "This Documentation file covers what is Fisher's Iris Dataset, why it is used in data analysis, methods for analysing data in Python and then examples of how this can be done with the Fisher's Iris Dataset."
   ]
  },
  {
   "cell_type": "markdown",
   "id": "5cd7f0f0",
   "metadata": {},
   "source": [
    "# The Fisher's Iris Dataset"
   ]
  },
  {
   "cell_type": "markdown",
   "id": "f7e8cc71",
   "metadata": {},
   "source": [
    "## What is Fisher's Iris Dataset?\n",
    "The Fisher's Iris dataset is a simple dataset of 150 records: 50 records of 3 different types of irises. There are 5 variables in the dataset:\n",
    "1. sepal length in cm\n",
    "2. sepal width in cm\n",
    "3. petal length in cm\n",
    "4. petal width in cm\n",
    "5. class:\n",
    "-- Iris Setosa\n",
    "-- Iris Versicolour\n",
    "-- Iris Virginica\n",
    "\n",
    "The data was collected by Edgar Anderson who was trying to work out how one species of Iris evolved from another. He chose to study Iris Versicolour, but subsequently discovered this was actually two species: Iris Versicolour and Iris Virginica. He added to his investigation Iris Setosa. From his investigation he discovered that the Iris Versicolour in North East America as a breeding of Iris Viginica and Irish Setosa.  \n",
    "\n",
    "The dataset was published by Ronald Fisher in his 1936 paper The use of multiple measurements in taxonomic problems [1]. From analysing the data Fisher showed that Iris Setosa could be separated from Iris Versicolour and Iris Virginica. Through this project we are going to use Python to create some visual representations of the data that confirms this differentiation. The data set was donated in 1988 by Michael Marshall and is published to the public at UCI Machine Learning Repository [2]. "
   ]
  },
  {
   "cell_type": "markdown",
   "id": "becc5fe4",
   "metadata": {},
   "source": [
    "## Where can it be located?"
   ]
  },
  {
   "cell_type": "markdown",
   "id": "bc4fad91",
   "metadata": {},
   "source": [
    "## What are its uses?"
   ]
  },
  {
   "cell_type": "markdown",
   "id": "7f188792",
   "metadata": {},
   "source": [
    "# Analysing data with Python"
   ]
  },
  {
   "cell_type": "markdown",
   "id": "d5439612",
   "metadata": {},
   "source": [
    "## Working with numerical data: numpy\n",
    "Numpy is a library designed for working with numerical data. You first need to ensure it is installed on your computer and then import it in your code."
   ]
  },
  {
   "cell_type": "code",
   "execution_count": 8,
   "id": "4b7636d4",
   "metadata": {},
   "outputs": [],
   "source": [
    "import numpy as np"
   ]
  },
  {
   "cell_type": "markdown",
   "id": "95d8b716",
   "metadata": {},
   "source": [
    "## Working with datasets: PANDAS\n",
    "The most commonly used tool in Python for working with data sets is Pandas [3]. It is a Python library with functions for analysing, cleaning, exploring and manipulating data. The codebase for Pandas is available at: https://github.com/pandas-dev/pandas.\n",
    "\n",
    "Before using Pandas it will need to be installed.  If you already have Spyder or Anaconda installed this already contains Pandas and you don't need to install it again. "
   ]
  },
  {
   "cell_type": "markdown",
   "id": "0904fad8",
   "metadata": {},
   "source": [
    "Once it is installed it is added to my applications by importing it, this is normally done under the alias pd:"
   ]
  },
  {
   "cell_type": "code",
   "execution_count": 13,
   "id": "563bda4a",
   "metadata": {},
   "outputs": [],
   "source": [
    "import pandas as pd\n"
   ]
  },
  {
   "cell_type": "markdown",
   "id": "502a9ea3",
   "metadata": {},
   "source": [
    "An easy each way to check if it is installed is to request the version number to be printed to the terminal:"
   ]
  },
  {
   "cell_type": "code",
   "execution_count": 14,
   "id": "0d132d30",
   "metadata": {},
   "outputs": [
    {
     "name": "stdout",
     "output_type": "stream",
     "text": [
      "1.4.4\n"
     ]
    }
   ],
   "source": [
    "print(pd.__version__)"
   ]
  },
  {
   "cell_type": "markdown",
   "id": "d51edbeb",
   "metadata": {},
   "source": [
    "Pandas allows tabulated data such as csv to be imported as a data table, in Pandas this is called `DataFrame`.  Pandas allows the importing of data from a variety of file formats or data sources using the format `read_` source type, eg `read_csv` will read in data from a csv file. By default the first line of the file is assumed to be the header file. If the file does not have headers these can added by using names = \" \", \" \"]. "
   ]
  },
  {
   "cell_type": "code",
   "execution_count": 16,
   "id": "ebf679f1",
   "metadata": {},
   "outputs": [],
   "source": [
    "df = pd.read_csv(\"https://archive.ics.uci.edu/ml/machine-learning-databases/iris/iris.data\", \n",
    "                   names = [\"sepal length\", \"sepal width\", \"petal length\", \"petal width\", \"class\"])"
   ]
  },
  {
   "cell_type": "markdown",
   "id": "137f6c33",
   "metadata": {},
   "source": [
    "A quick view of the data can be seen by printing `head()` or `info()`. Here I have used `info()` to confirm the column names, the number of entries in each column and the datatype."
   ]
  },
  {
   "cell_type": "code",
   "execution_count": 17,
   "id": "27e122fc",
   "metadata": {},
   "outputs": [
    {
     "name": "stdout",
     "output_type": "stream",
     "text": [
      "<class 'pandas.core.frame.DataFrame'>\n",
      "RangeIndex: 150 entries, 0 to 149\n",
      "Data columns (total 5 columns):\n",
      " #   Column        Non-Null Count  Dtype  \n",
      "---  ------        --------------  -----  \n",
      " 0   sepal length  150 non-null    float64\n",
      " 1   sepal width   150 non-null    float64\n",
      " 2   petal length  150 non-null    float64\n",
      " 3   petal width   150 non-null    float64\n",
      " 4   class         150 non-null    object \n",
      "dtypes: float64(4), object(1)\n",
      "memory usage: 6.0+ KB\n",
      "None\n"
     ]
    }
   ],
   "source": [
    "print (df.info())"
   ]
  },
  {
   "cell_type": "markdown",
   "id": "25edad62",
   "metadata": {},
   "source": [
    "By default the output will show upto 60 lines, if these is more than this it will only show the first and last five. The max rows for your setup can be checked with `pd.options.display.max_rows`. The maximum number of rows can be increased by using the same statement and suffixing `=` and then what ever number you want. This is essential if you would like to print the entire dataframe to the terminal to review the data, although for large datasets a text editor is normally better suited to this task."
   ]
  },
  {
   "cell_type": "code",
   "execution_count": 21,
   "id": "2284ad9d",
   "metadata": {},
   "outputs": [
    {
     "name": "stdout",
     "output_type": "stream",
     "text": [
      "     sepal length  sepal width  petal length  petal width            class\n",
      "0             5.1          3.5           1.4          0.2      Iris-setosa\n",
      "1             4.9          3.0           1.4          0.2      Iris-setosa\n",
      "2             4.7          3.2           1.3          0.2      Iris-setosa\n",
      "3             4.6          3.1           1.5          0.2      Iris-setosa\n",
      "4             5.0          3.6           1.4          0.2      Iris-setosa\n",
      "5             5.4          3.9           1.7          0.4      Iris-setosa\n",
      "6             4.6          3.4           1.4          0.3      Iris-setosa\n",
      "7             5.0          3.4           1.5          0.2      Iris-setosa\n",
      "8             4.4          2.9           1.4          0.2      Iris-setosa\n",
      "9             4.9          3.1           1.5          0.1      Iris-setosa\n",
      "10            5.4          3.7           1.5          0.2      Iris-setosa\n",
      "11            4.8          3.4           1.6          0.2      Iris-setosa\n",
      "12            4.8          3.0           1.4          0.1      Iris-setosa\n",
      "13            4.3          3.0           1.1          0.1      Iris-setosa\n",
      "14            5.8          4.0           1.2          0.2      Iris-setosa\n",
      "15            5.7          4.4           1.5          0.4      Iris-setosa\n",
      "16            5.4          3.9           1.3          0.4      Iris-setosa\n",
      "17            5.1          3.5           1.4          0.3      Iris-setosa\n",
      "18            5.7          3.8           1.7          0.3      Iris-setosa\n",
      "19            5.1          3.8           1.5          0.3      Iris-setosa\n",
      "20            5.4          3.4           1.7          0.2      Iris-setosa\n",
      "21            5.1          3.7           1.5          0.4      Iris-setosa\n",
      "22            4.6          3.6           1.0          0.2      Iris-setosa\n",
      "23            5.1          3.3           1.7          0.5      Iris-setosa\n",
      "24            4.8          3.4           1.9          0.2      Iris-setosa\n",
      "25            5.0          3.0           1.6          0.2      Iris-setosa\n",
      "26            5.0          3.4           1.6          0.4      Iris-setosa\n",
      "27            5.2          3.5           1.5          0.2      Iris-setosa\n",
      "28            5.2          3.4           1.4          0.2      Iris-setosa\n",
      "29            4.7          3.2           1.6          0.2      Iris-setosa\n",
      "30            4.8          3.1           1.6          0.2      Iris-setosa\n",
      "31            5.4          3.4           1.5          0.4      Iris-setosa\n",
      "32            5.2          4.1           1.5          0.1      Iris-setosa\n",
      "33            5.5          4.2           1.4          0.2      Iris-setosa\n",
      "34            4.9          3.1           1.5          0.1      Iris-setosa\n",
      "35            5.0          3.2           1.2          0.2      Iris-setosa\n",
      "36            5.5          3.5           1.3          0.2      Iris-setosa\n",
      "37            4.9          3.1           1.5          0.1      Iris-setosa\n",
      "38            4.4          3.0           1.3          0.2      Iris-setosa\n",
      "39            5.1          3.4           1.5          0.2      Iris-setosa\n",
      "40            5.0          3.5           1.3          0.3      Iris-setosa\n",
      "41            4.5          2.3           1.3          0.3      Iris-setosa\n",
      "42            4.4          3.2           1.3          0.2      Iris-setosa\n",
      "43            5.0          3.5           1.6          0.6      Iris-setosa\n",
      "44            5.1          3.8           1.9          0.4      Iris-setosa\n",
      "45            4.8          3.0           1.4          0.3      Iris-setosa\n",
      "46            5.1          3.8           1.6          0.2      Iris-setosa\n",
      "47            4.6          3.2           1.4          0.2      Iris-setosa\n",
      "48            5.3          3.7           1.5          0.2      Iris-setosa\n",
      "49            5.0          3.3           1.4          0.2      Iris-setosa\n",
      "50            7.0          3.2           4.7          1.4  Iris-versicolor\n",
      "51            6.4          3.2           4.5          1.5  Iris-versicolor\n",
      "52            6.9          3.1           4.9          1.5  Iris-versicolor\n",
      "53            5.5          2.3           4.0          1.3  Iris-versicolor\n",
      "54            6.5          2.8           4.6          1.5  Iris-versicolor\n",
      "55            5.7          2.8           4.5          1.3  Iris-versicolor\n",
      "56            6.3          3.3           4.7          1.6  Iris-versicolor\n",
      "57            4.9          2.4           3.3          1.0  Iris-versicolor\n",
      "58            6.6          2.9           4.6          1.3  Iris-versicolor\n",
      "59            5.2          2.7           3.9          1.4  Iris-versicolor\n",
      "60            5.0          2.0           3.5          1.0  Iris-versicolor\n",
      "61            5.9          3.0           4.2          1.5  Iris-versicolor\n",
      "62            6.0          2.2           4.0          1.0  Iris-versicolor\n",
      "63            6.1          2.9           4.7          1.4  Iris-versicolor\n",
      "64            5.6          2.9           3.6          1.3  Iris-versicolor\n",
      "65            6.7          3.1           4.4          1.4  Iris-versicolor\n",
      "66            5.6          3.0           4.5          1.5  Iris-versicolor\n",
      "67            5.8          2.7           4.1          1.0  Iris-versicolor\n",
      "68            6.2          2.2           4.5          1.5  Iris-versicolor\n",
      "69            5.6          2.5           3.9          1.1  Iris-versicolor\n",
      "70            5.9          3.2           4.8          1.8  Iris-versicolor\n",
      "71            6.1          2.8           4.0          1.3  Iris-versicolor\n",
      "72            6.3          2.5           4.9          1.5  Iris-versicolor\n",
      "73            6.1          2.8           4.7          1.2  Iris-versicolor\n",
      "74            6.4          2.9           4.3          1.3  Iris-versicolor\n",
      "75            6.6          3.0           4.4          1.4  Iris-versicolor\n",
      "76            6.8          2.8           4.8          1.4  Iris-versicolor\n",
      "77            6.7          3.0           5.0          1.7  Iris-versicolor\n",
      "78            6.0          2.9           4.5          1.5  Iris-versicolor\n",
      "79            5.7          2.6           3.5          1.0  Iris-versicolor\n",
      "80            5.5          2.4           3.8          1.1  Iris-versicolor\n",
      "81            5.5          2.4           3.7          1.0  Iris-versicolor\n",
      "82            5.8          2.7           3.9          1.2  Iris-versicolor\n",
      "83            6.0          2.7           5.1          1.6  Iris-versicolor\n",
      "84            5.4          3.0           4.5          1.5  Iris-versicolor\n",
      "85            6.0          3.4           4.5          1.6  Iris-versicolor\n",
      "86            6.7          3.1           4.7          1.5  Iris-versicolor\n",
      "87            6.3          2.3           4.4          1.3  Iris-versicolor\n",
      "88            5.6          3.0           4.1          1.3  Iris-versicolor\n",
      "89            5.5          2.5           4.0          1.3  Iris-versicolor\n",
      "90            5.5          2.6           4.4          1.2  Iris-versicolor\n",
      "91            6.1          3.0           4.6          1.4  Iris-versicolor\n",
      "92            5.8          2.6           4.0          1.2  Iris-versicolor\n",
      "93            5.0          2.3           3.3          1.0  Iris-versicolor\n",
      "94            5.6          2.7           4.2          1.3  Iris-versicolor\n",
      "95            5.7          3.0           4.2          1.2  Iris-versicolor\n",
      "96            5.7          2.9           4.2          1.3  Iris-versicolor\n",
      "97            6.2          2.9           4.3          1.3  Iris-versicolor\n",
      "98            5.1          2.5           3.0          1.1  Iris-versicolor\n",
      "99            5.7          2.8           4.1          1.3  Iris-versicolor\n",
      "100           6.3          3.3           6.0          2.5   Iris-virginica\n",
      "101           5.8          2.7           5.1          1.9   Iris-virginica\n",
      "102           7.1          3.0           5.9          2.1   Iris-virginica\n",
      "103           6.3          2.9           5.6          1.8   Iris-virginica\n",
      "104           6.5          3.0           5.8          2.2   Iris-virginica\n",
      "105           7.6          3.0           6.6          2.1   Iris-virginica\n",
      "106           4.9          2.5           4.5          1.7   Iris-virginica\n",
      "107           7.3          2.9           6.3          1.8   Iris-virginica\n",
      "108           6.7          2.5           5.8          1.8   Iris-virginica\n",
      "109           7.2          3.6           6.1          2.5   Iris-virginica\n",
      "110           6.5          3.2           5.1          2.0   Iris-virginica\n",
      "111           6.4          2.7           5.3          1.9   Iris-virginica\n",
      "112           6.8          3.0           5.5          2.1   Iris-virginica\n",
      "113           5.7          2.5           5.0          2.0   Iris-virginica\n",
      "114           5.8          2.8           5.1          2.4   Iris-virginica\n",
      "115           6.4          3.2           5.3          2.3   Iris-virginica\n",
      "116           6.5          3.0           5.5          1.8   Iris-virginica\n",
      "117           7.7          3.8           6.7          2.2   Iris-virginica\n",
      "118           7.7          2.6           6.9          2.3   Iris-virginica\n",
      "119           6.0          2.2           5.0          1.5   Iris-virginica\n",
      "120           6.9          3.2           5.7          2.3   Iris-virginica\n",
      "121           5.6          2.8           4.9          2.0   Iris-virginica\n",
      "122           7.7          2.8           6.7          2.0   Iris-virginica\n",
      "123           6.3          2.7           4.9          1.8   Iris-virginica\n",
      "124           6.7          3.3           5.7          2.1   Iris-virginica\n",
      "125           7.2          3.2           6.0          1.8   Iris-virginica\n",
      "126           6.2          2.8           4.8          1.8   Iris-virginica\n",
      "127           6.1          3.0           4.9          1.8   Iris-virginica\n",
      "128           6.4          2.8           5.6          2.1   Iris-virginica\n",
      "129           7.2          3.0           5.8          1.6   Iris-virginica\n",
      "130           7.4          2.8           6.1          1.9   Iris-virginica\n",
      "131           7.9          3.8           6.4          2.0   Iris-virginica\n",
      "132           6.4          2.8           5.6          2.2   Iris-virginica\n",
      "133           6.3          2.8           5.1          1.5   Iris-virginica\n",
      "134           6.1          2.6           5.6          1.4   Iris-virginica\n",
      "135           7.7          3.0           6.1          2.3   Iris-virginica\n",
      "136           6.3          3.4           5.6          2.4   Iris-virginica\n",
      "137           6.4          3.1           5.5          1.8   Iris-virginica\n",
      "138           6.0          3.0           4.8          1.8   Iris-virginica\n",
      "139           6.9          3.1           5.4          2.1   Iris-virginica\n",
      "140           6.7          3.1           5.6          2.4   Iris-virginica\n",
      "141           6.9          3.1           5.1          2.3   Iris-virginica\n",
      "142           5.8          2.7           5.1          1.9   Iris-virginica\n",
      "143           6.8          3.2           5.9          2.3   Iris-virginica\n",
      "144           6.7          3.3           5.7          2.5   Iris-virginica\n",
      "145           6.7          3.0           5.2          2.3   Iris-virginica\n",
      "146           6.3          2.5           5.0          1.9   Iris-virginica\n",
      "147           6.5          3.0           5.2          2.0   Iris-virginica\n",
      "148           6.2          3.4           5.4          2.3   Iris-virginica\n",
      "149           5.9          3.0           5.1          1.8   Iris-virginica\n"
     ]
    }
   ],
   "source": [
    "pd.options.display.max_rows = 160\n",
    "print (df)"
   ]
  },
  {
   "cell_type": "markdown",
   "id": "71fd772d",
   "metadata": {},
   "source": [
    "The above information can be used to identify columns with null values and the user can make decisions how to handle these, for example, the whole row could be removed or the missing value replaced with the mean for the column. Fisher's Iris data set is not missing any values. Another useful test is to check for duplicated values using the `duplicated()`. "
   ]
  },
  {
   "cell_type": "code",
   "execution_count": 18,
   "id": "2dc312b9",
   "metadata": {},
   "outputs": [
    {
     "name": "stdout",
     "output_type": "stream",
     "text": [
      "0      False\n",
      "1      False\n",
      "2      False\n",
      "3      False\n",
      "4      False\n",
      "       ...  \n",
      "145    False\n",
      "146    False\n",
      "147    False\n",
      "148    False\n",
      "149    False\n",
      "Length: 150, dtype: bool\n"
     ]
    }
   ],
   "source": [
    "print(df.duplicated())"
   ]
  },
  {
   "cell_type": "markdown",
   "id": "d0200cb6",
   "metadata": {},
   "source": [
    "Within Pandas data cleaning can take place. It has methods to clean empty cells, change cell format, clean incorrect data and remove duplicates. "
   ]
  },
  {
   "cell_type": "markdown",
   "id": "2d50f800",
   "metadata": {},
   "source": [
    "\n",
    "When the data is imported you can filter on a condition, or select by row and/or column.The `loc` attribute returns a specific row or rows."
   ]
  },
  {
   "cell_type": "markdown",
   "id": "0e8782e4",
   "metadata": {},
   "source": [
    "Within Pandas basic statistics about a column (series\n",
    ") of data can be calculated using the format"
   ]
  },
  {
   "cell_type": "code",
   "execution_count": 22,
   "id": "be92a026",
   "metadata": {},
   "outputs": [
    {
     "name": "stdout",
     "output_type": "stream",
     "text": [
      "5.843333333333335\n"
     ]
    }
   ],
   "source": [
    "print(df[\"sepal length\"].mean())"
   ]
  },
  {
   "cell_type": "markdown",
   "id": "54bb6c56",
   "metadata": {},
   "source": [
    "## Plotting data\n",
    "Data visualisation helps makes complex data sources more easy to understand via graphics. Matplotlib and Seaborn are the most commonly used data visualisation tools in Python.\n",
    "### Matplotlib\n",
    "Matplotlib is a library for the plotting of data. It works alongside Pandas and Numpy. The codebase for Matplotlib is available at https://github.com/matplotlib/matplotlib. The figures can be interactive, the plots can be formatted and exported into a variety of formats. Matplotlib is normally imported under the alias 'plt'. Most of the Matplotlib utilities are in the pyplot sublibrary and therefore, it is often imported at this level. "
   ]
  },
  {
   "cell_type": "code",
   "execution_count": 10,
   "id": "4f016bf7",
   "metadata": {},
   "outputs": [],
   "source": [
    "import matplotlib.pyplot as plt"
   ]
  },
  {
   "cell_type": "markdown",
   "id": "d96de41e",
   "metadata": {},
   "source": [
    "### Seaborn\n",
    "Is also a Python library and it can make more complicated plots."
   ]
  },
  {
   "cell_type": "markdown",
   "id": "6b1d9082",
   "metadata": {},
   "source": [
    "### Matplotlib or Seaborn: Which is better?\n",
    "As is often the case with this question, the answer is, it depends on what you are trying to do. Matplotlib is good at making basic graphs including barcharts, piecharts and scatterplots. Seaborn is an extended version of matplotlib and uses matplotlib, pandas and numpy to make visualisations. The following table is based on the one at: https://www.geeksforgeeks.org/difference-between-matplotlib-vs-seaborn/. \n",
    "|Area |Matplotlib |Seaborn |\n",
    "|--|-----------|---------|\n",
    "|Function|Basic charts including bar charts, pie charts and scatter plots | More complicated plots. It can provide a plot of all data one plot.|\n",
    "|Syntax|Is quite lengthy eg matplotlib.pyplot.hist(x_axis, y_axis)|Is a little simpler and easier to learn eg seaborn.histplot(x_axis, y_axis)|\n",
    "|Multiple plots|Can open and use multiple plots at a time. Need to be closed.|Time set for the creation of each plot, this can lead to out of memory errors|\n",
    "|Visualisation|Provides similar output and syntax as MATLAB, so great for those already familiar with MATLAB| More comfortable at handling Pandas dataframes. Great variety of nice looking visualisations can be created|\n",
    "|Data frames and arrays|Works efficiently with data frames and arrays. Plot() can be called without parameters.|Whole data set is treated as a simple unit and parameters are needed when calling plot().|"
   ]
  },
  {
   "cell_type": "markdown",
   "id": "c6e0befc",
   "metadata": {},
   "source": [
    "# How to run the code"
   ]
  },
  {
   "cell_type": "markdown",
   "id": "3777a1fc",
   "metadata": {},
   "source": [
    "## Importing the libraries \n",
    "The Fisher's Iris data set is published at https://archive.ics.uci.edu/ml/datasets/iris. The CSV file for the data is at https://archive.ics.uci.edu/ml/machine-learning-databases/iris/iris.data and the details for the headers is in https://archive.ics.uci.edu/ml/machine-learning-databases/iris/iris.names.  Therefore, when importing the dataset we add the argument 'header=None' so the first row is seen as data rather than the header and 'names=' to add the correct header data. "
   ]
  },
  {
   "cell_type": "code",
   "execution_count": 11,
   "id": "621eab21",
   "metadata": {},
   "outputs": [],
   "source": [
    "import pandas as pd\n",
    "colname = [\"Sepal Length\", \"Sepal Width\", \"Petal Length\", \"Petal Width\", \"Class\"]\n",
    "iris = pd.read_csv(\"https://archive.ics.uci.edu/ml/machine-learning-databases/iris/iris.data\", \n",
    "                   names = [\"Sepal Length\", \"Sepal Width\", \"Petal Length\", \"Petal Width\", \"Class\"])"
   ]
  },
  {
   "cell_type": "code",
   "execution_count": 12,
   "id": "4222cd76",
   "metadata": {},
   "outputs": [
    {
     "data": {
      "text/plain": [
       "(150, 5)"
      ]
     },
     "execution_count": 12,
     "metadata": {},
     "output_type": "execute_result"
    }
   ],
   "source": [
    "iris.shape"
   ]
  },
  {
   "cell_type": "markdown",
   "id": "64c7600f",
   "metadata": {},
   "source": [
    "# Analysing Fisher's Iris Dataset\n",
    "## Summary text file\n",
    "A summary of rach variable to a single text file\n",
    "\n",
    "## Histogram of each variable\n",
    "Historgrams to be saved to the repository\n",
    "https://www.geeksforgeeks.org/how-to-create-a-histogram-from-pandas-dataframe/\n",
    "\n",
    "## Scatterplots of pairs of variables\n",
    "To be saved in the repository\n",
    "\n",
    "## examples of interesting analyses that others have pursued based on \n",
    "the data set will be discussed"
   ]
  },
  {
   "cell_type": "markdown",
   "id": "748131ea",
   "metadata": {},
   "source": [
    "# References\n",
    "[1] Fisher paper\n",
    "\n",
    "https://github.com/pandas-dev/pandas"
   ]
  }
 ],
 "metadata": {
  "kernelspec": {
   "display_name": "Python 3 (ipykernel)",
   "language": "python",
   "name": "python3"
  },
  "language_info": {
   "codemirror_mode": {
    "name": "ipython",
    "version": 3
   },
   "file_extension": ".py",
   "mimetype": "text/x-python",
   "name": "python",
   "nbconvert_exporter": "python",
   "pygments_lexer": "ipython3",
   "version": "3.9.13"
  }
 },
 "nbformat": 4,
 "nbformat_minor": 5
}
