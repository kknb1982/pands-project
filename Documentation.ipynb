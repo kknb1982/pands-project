{
 "cells": [
  {
   "attachments": {},
   "cell_type": "markdown",
   "id": "323e8e81",
   "metadata": {},
   "source": [
    "# Introduction\n",
    "This Documentation file covers what is Fisher's Iris Dataset, why it is used in data analysis, methods for analysing data in Python and then examples of how this can be done with the Fisher's Iris Dataset."
   ]
  },
  {
   "cell_type": "markdown",
   "id": "5cd7f0f0",
   "metadata": {},
   "source": [
    "# The Fisher's Iris Dataset"
   ]
  },
  {
   "attachments": {},
   "cell_type": "markdown",
   "id": "f7e8cc71",
   "metadata": {},
   "source": [
    "## What is Fisher's Iris Dataset?\n",
    "The Fisher's Iris dataset is a simple dataset of 150 records: 50 records of 3 different types of irises. There are 5 variables in the dataset:\n",
    "1. sepal length in cm\n",
    "2. sepal width in cm\n",
    "3. petal length in cm\n",
    "4. petal width in cm\n",
    "5. class:\n",
    "-- Iris Setosa\n",
    "-- Iris Versicolour\n",
    "-- Iris Virginica\n",
    "\n",
    "The data was collected by Edgar Anderson who was trying to work out how one species of Iris evolved from another. He chose to study Iris Versicolour, but subsequently discovered this was actually two species: Iris Versicolour and Iris Virginica. He added to his investigation Iris Setosa. From his investigation he discovered that the Iris Versicolour in North East America as a breeding of Iris Viginica and Irish Setosa.  \n",
    "\n",
    "The dataset was published by Ronald Fisher in his 1936 paper The use of multiple measurements in taxonomic problems [1]. From analysing the data Fisher showed that Iris Setosa could be separated from Iris Versicolour and Iris Virginica. Through this project we are going to use Python to create some visual representations of the data that confirms this differentiation. The data set was donated in 1988 by Michael Marshall and is published to the public at UCI Machine Learning Repository [2]. "
   ]
  },
  {
   "cell_type": "markdown",
   "id": "becc5fe4",
   "metadata": {},
   "source": [
    "## Where can it be located?"
   ]
  },
  {
   "cell_type": "markdown",
   "id": "bc4fad91",
   "metadata": {},
   "source": [
    "## What are its uses?"
   ]
  },
  {
   "cell_type": "markdown",
   "id": "7f188792",
   "metadata": {},
   "source": [
    "# Analysing data with Python"
   ]
  },
  {
   "attachments": {},
   "cell_type": "markdown",
   "id": "95d8b716",
   "metadata": {},
   "source": [
    "## PANDAS\n",
    "Pandas is a Python library designed for usage in working with data sets. It has functions for analysing, cleaning, exploring and manipulating data. To use pandas it needs to be installed. The original source code is at: https://raw.githubusercontent.com/uiuc-cse/data-fa14/gh-pages/data/iris.csv. If you already have SPyder or Anaconda installed this already contains Pandas and you don't need to install it again. Once it is installed it is added to my applications by importing it, this is normally done under the alias pd:"
   ]
  },
  {
   "cell_type": "code",
   "execution_count": 1,
   "id": "563bda4a",
   "metadata": {},
   "outputs": [
    {
     "name": "stdout",
     "output_type": "stream",
     "text": [
      "1.4.4\n"
     ]
    }
   ],
   "source": [
    "import pandas as pd\n",
    "csvurl = https://archive.ics.uci.edu/ml/machine-learning-databases/iris/iris.data\n"
   ]
  },
  {
   "cell_type": "markdown",
   "id": "c6e0befc",
   "metadata": {},
   "source": [
    "# How to run the code"
   ]
  },
  {
   "attachments": {},
   "cell_type": "markdown",
   "id": "3777a1fc",
   "metadata": {},
   "source": [
    "## Inmporting the libraries "
   ]
  },
  {
   "cell_type": "code",
   "execution_count": null,
   "id": "621eab21",
   "metadata": {},
   "outputs": [],
   "source": [
    "import pandas"
   ]
  },
  {
   "cell_type": "markdown",
   "id": "64c7600f",
   "metadata": {},
   "source": [
    "# Analysing Fisher's Iris Dataset\n",
    "## Summary text file\n",
    "A summary of rach variable to a single text file\n",
    "\n",
    "## Histogram of each variable\n",
    "Historgrams to be saved to the repository\n",
    "\n",
    "## Scatterplots of pairs of variables\n",
    "To be saved in the repository\n",
    "\n",
    "## examples of interesting analyses that others have pursued based on \n",
    "the data set will be discussed"
   ]
  },
  {
   "attachments": {},
   "cell_type": "markdown",
   "id": "748131ea",
   "metadata": {},
   "source": [
    "# References\n",
    "[1] Fisher paper"
   ]
  }
 ],
 "metadata": {
  "kernelspec": {
   "display_name": "Python 3 (ipykernel)",
   "language": "python",
   "name": "python3"
  },
  "language_info": {
   "codemirror_mode": {
    "name": "ipython",
    "version": 3
   },
   "file_extension": ".py",
   "mimetype": "text/x-python",
   "name": "python",
   "nbconvert_exporter": "python",
   "pygments_lexer": "ipython3",
   "version": "3.9.13"
  }
 },
 "nbformat": 4,
 "nbformat_minor": 5
}
