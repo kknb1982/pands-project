{
 "cells": [
  {
   "cell_type": "markdown",
   "id": "323e8e81",
   "metadata": {},
   "source": [
    "# Introduction\n",
    "This Documentation file covers what is Fisher's Iris Dataset, why it is used in data analysis, methods for analysing data in Python and then examples of how this can be done with the Fisher's Iris Dataset."
   ]
  },
  {
   "cell_type": "markdown",
   "id": "5cd7f0f0",
   "metadata": {},
   "source": [
    "# The Fisher's Iris Dataset"
   ]
  },
  {
   "cell_type": "markdown",
   "id": "f7e8cc71",
   "metadata": {},
   "source": [
    "## What is Fisher's Iris Dataset?\n",
    "The Fisher's Iris dataset is a simple dataset of 150 records: 50 records of 3 different types of irises. There are 5 variables in the dataset:\n",
    "1. sepal length in cm\n",
    "2. sepal width in cm\n",
    "3. petal length in cm\n",
    "4. petal width in cm\n",
    "5. class:\n",
    "-- Iris Setosa\n",
    "-- Iris Versicolour\n",
    "-- Iris Virginica\n",
    "\n",
    "The data was collected by Edgar Anderson who was trying to work out how one species of Iris evolved from another. He chose to study Iris Versicolour, but subsequently discovered this was actually two species: Iris Versicolour and Iris Virginica. He added to his investigation Iris Setosa. From his investigation he discovered that the Iris Versicolour in North East America as a breeding of Iris Viginica and Irish Setosa.  \n",
    "\n",
    "The dataset was published by Ronald Fisher in his 1936 paper The use of multiple measurements in taxonomic problems [1]. From analysing the data Fisher showed that Iris Setosa could be separated from Iris Versicolour and Iris Virginica. Through this project we are going to use Python to create some visual representations of the data that confirms this differentiation. The data set was donated in 1988 by Michael Marshall and is published to the public at UCI Machine Learning Repository [2]. "
   ]
  },
  {
   "cell_type": "markdown",
   "id": "becc5fe4",
   "metadata": {},
   "source": [
    "## Where can it be located?"
   ]
  },
  {
   "cell_type": "markdown",
   "id": "bc4fad91",
   "metadata": {},
   "source": [
    "## What are its uses?"
   ]
  },
  {
   "cell_type": "markdown",
   "id": "7f188792",
   "metadata": {},
   "source": [
    "# Analysing data with Python"
   ]
  },
  {
   "attachments": {},
   "cell_type": "markdown",
   "id": "d5439612",
   "metadata": {},
   "source": [
    "## Working with numerical data: numpy\n",
    "Numpy is a library designed for working with numerical data. You first need to ensure it is installed on your computer and then import it in your code."
   ]
  },
  {
   "cell_type": "code",
   "execution_count": 8,
   "id": "4b7636d4",
   "metadata": {},
   "outputs": [],
   "source": [
    "import numpy as np"
   ]
  },
  {
   "attachments": {},
   "cell_type": "markdown",
   "id": "95d8b716",
   "metadata": {},
   "source": [
    "## Working with datasets: PANDAS\n",
    "The most commonly used tool in Python for working with data sets is Pandas [3]. It is a Python library with functions for analysing, cleaning, exploring and manipulating data. The codebase for Pandas is available at: https://github.com/pandas-dev/pandas.\n",
    "\n",
    "Before using Pandas it will need to be installed.  If you already have Spyder or Anaconda installed this already contains Pandas and you don't need to install it again. "
   ]
  },
  {
   "cell_type": "markdown",
   "id": "0904fad8",
   "metadata": {},
   "source": [
    "Once it is installed it is added to my applications by importing it, this is normally done under the alias pd:"
   ]
  },
  {
   "cell_type": "code",
   "execution_count": 13,
   "id": "563bda4a",
   "metadata": {},
   "outputs": [],
   "source": [
    "import pandas as pd\n"
   ]
  },
  {
   "attachments": {},
   "cell_type": "markdown",
   "id": "502a9ea3",
   "metadata": {},
   "source": [
    "An easy each way to check if it is installed is to request the version number to be printed to the terminal:"
   ]
  },
  {
   "cell_type": "code",
   "execution_count": 14,
   "id": "0d132d30",
   "metadata": {},
   "outputs": [
    {
     "name": "stdout",
     "output_type": "stream",
     "text": [
      "1.4.4\n"
     ]
    }
   ],
   "source": [
    "print(pd.__version__)"
   ]
  },
  {
   "attachments": {},
   "cell_type": "markdown",
   "id": "d51edbeb",
   "metadata": {},
   "source": [
    "Pandas allows tabulated data such as csv to be imported as a data table, in Pandas this is called `DataFrame`.  Pandas allows the importing of data from a variety of file formats or data sources using the format `read_` source type, eg `read_csv` will read in data from a csv file. By default the first line of the file is assumed to be the header file. If the file does not have headers these can added by using names = \" \", \" \"]. "
   ]
  },
  {
   "cell_type": "code",
   "execution_count": 16,
   "id": "ebf679f1",
   "metadata": {},
   "outputs": [],
   "source": [
    "df = pd.read_csv(\"https://archive.ics.uci.edu/ml/machine-learning-databases/iris/iris.data\", \n",
    "                   names = [\"sepal length\", \"sepal width\", \"petal length\", \"petal width\", \"class\"])"
   ]
  },
  {
   "attachments": {},
   "cell_type": "markdown",
   "id": "137f6c33",
   "metadata": {},
   "source": [
    "A quick view of the data can be seen by printing `head()` or `info()`. Here I have used `info()` to confirm the column names, the number of entries in each column and the datatype."
   ]
  },
  {
   "cell_type": "code",
   "execution_count": 17,
   "id": "27e122fc",
   "metadata": {},
   "outputs": [
    {
     "name": "stdout",
     "output_type": "stream",
     "text": [
      "<class 'pandas.core.frame.DataFrame'>\n",
      "RangeIndex: 150 entries, 0 to 149\n",
      "Data columns (total 5 columns):\n",
      " #   Column        Non-Null Count  Dtype  \n",
      "---  ------        --------------  -----  \n",
      " 0   sepal length  150 non-null    float64\n",
      " 1   sepal width   150 non-null    float64\n",
      " 2   petal length  150 non-null    float64\n",
      " 3   petal width   150 non-null    float64\n",
      " 4   class         150 non-null    object \n",
      "dtypes: float64(4), object(1)\n",
      "memory usage: 6.0+ KB\n",
      "None\n"
     ]
    }
   ],
   "source": [
    "print (df.info())"
   ]
  },
  {
   "cell_type": "markdown",
   "id": "25edad62",
   "metadata": {},
   "source": [
    " \n",
    "\n",
    "When the data is imported you can filter on a condition, or select by row and/or column. "
   ]
  },
  {
   "cell_type": "markdown",
   "id": "54bb6c56",
   "metadata": {},
   "source": [
    "## Plotting data\n",
    "Data visualisation helps makes complex data sources more easy to understand via graphics. Matplotlib and Seaborn are the most commonly used data visualisation tools in Python.\n",
    "### Matplotlib\n",
    "Matplotlib is a library for the plotting of data. It works alongisde Pandas and Numpy. The figures can be interactive, the plots can be formatted and exported into a variety of formats. Matplotlib is normally imported under the alias 'plt'. "
   ]
  },
  {
   "cell_type": "code",
   "execution_count": 10,
   "id": "4f016bf7",
   "metadata": {},
   "outputs": [],
   "source": [
    "import matplotlib.pyplot as plt"
   ]
  },
  {
   "cell_type": "markdown",
   "id": "d96de41e",
   "metadata": {},
   "source": [
    "### Seaborn\n",
    "Is also a Python library and it can make more complicated plots."
   ]
  },
  {
   "attachments": {},
   "cell_type": "markdown",
   "id": "6b1d9082",
   "metadata": {},
   "source": [
    "### Matplotlib or Seaborn: Which is better?\n",
    "As is often the case with this question, the answer is, it depends on what you are trying to do. Matplotlib is good at making basic graphs including barcharts, piecharts and scatterplots. Seaborn is an extended version of matplotlib and uses matplotlib, pandas and numpy to make visualisations. The following table is based on the one at: https://www.geeksforgeeks.org/difference-between-matplotlib-vs-seaborn/. \n",
    "|Area |Matplotlib |Seaborn |\n",
    "|--|-----------|---------|\n",
    "|Function|Basic charts including bar charts, pie charts and scatter plots | More complicated plots. It can provide a plot of all data one plot.|\n",
    "|Syntax|Is quite lengthy eg matplotlib.pyplot.hist(x_axis, y_axis)|Is a little simpler and easier to learn eg seaborn.histplot(x_axis, y_axis)|\n",
    "|Multiple plots|Can open and use multiple plots at a time. Need to be closed.|Time set for the creation of each plot, this can lead to out of memory errors|\n",
    "|Visualisation|Provides similar output and syntax as MATLAB, so great for those already familiar with MATLAB| More comfortable at handling Pandas dataframes. Great variety of nice looking visualisations can be created|\n",
    "|Data frames and arrays|Works efficiently with data frames and arrays. Plot() can be called without parameters.|Whole data set is treated as a simple unit and parameters are needed when calling plot().|"
   ]
  },
  {
   "cell_type": "markdown",
   "id": "c6e0befc",
   "metadata": {},
   "source": [
    "# How to run the code"
   ]
  },
  {
   "cell_type": "markdown",
   "id": "3777a1fc",
   "metadata": {},
   "source": [
    "## Importing the libraries \n",
    "The Fisher's Iris data set is published at https://archive.ics.uci.edu/ml/datasets/iris. The CSV file for the data is at https://archive.ics.uci.edu/ml/machine-learning-databases/iris/iris.data and the details for the headers is in https://archive.ics.uci.edu/ml/machine-learning-databases/iris/iris.names.  Therefore, when importing the dataset we add the argument 'header=None' so the first row is seen as data rather than the header and 'names=' to add the correct header data. "
   ]
  },
  {
   "cell_type": "code",
   "execution_count": 11,
   "id": "621eab21",
   "metadata": {},
   "outputs": [],
   "source": [
    "import pandas as pd\n",
    "colname = [\"Sepal Length\", \"Sepal Width\", \"Petal Length\", \"Petal Width\", \"Class\"]\n",
    "iris = pd.read_csv(\"https://archive.ics.uci.edu/ml/machine-learning-databases/iris/iris.data\", \n",
    "                   names = [\"Sepal Length\", \"Sepal Width\", \"Petal Length\", \"Petal Width\", \"Class\"])"
   ]
  },
  {
   "cell_type": "code",
   "execution_count": 12,
   "id": "4222cd76",
   "metadata": {},
   "outputs": [
    {
     "data": {
      "text/plain": [
       "(150, 5)"
      ]
     },
     "execution_count": 12,
     "metadata": {},
     "output_type": "execute_result"
    }
   ],
   "source": [
    "iris.shape"
   ]
  },
  {
   "cell_type": "markdown",
   "id": "64c7600f",
   "metadata": {},
   "source": [
    "# Analysing Fisher's Iris Dataset\n",
    "## Summary text file\n",
    "A summary of rach variable to a single text file\n",
    "\n",
    "## Histogram of each variable\n",
    "Historgrams to be saved to the repository\n",
    "\n",
    "## Scatterplots of pairs of variables\n",
    "To be saved in the repository\n",
    "\n",
    "## examples of interesting analyses that others have pursued based on \n",
    "the data set will be discussed"
   ]
  },
  {
   "cell_type": "markdown",
   "id": "748131ea",
   "metadata": {},
   "source": [
    "# References\n",
    "[1] Fisher paper\n",
    "\n",
    "https://github.com/pandas-dev/pandas"
   ]
  }
 ],
 "metadata": {
  "kernelspec": {
   "display_name": "Python 3 (ipykernel)",
   "language": "python",
   "name": "python3"
  },
  "language_info": {
   "codemirror_mode": {
    "name": "ipython",
    "version": 3
   },
   "file_extension": ".py",
   "mimetype": "text/x-python",
   "name": "python",
   "nbconvert_exporter": "python",
   "pygments_lexer": "ipython3",
   "version": "3.9.13"
  }
 },
 "nbformat": 4,
 "nbformat_minor": 5
}
