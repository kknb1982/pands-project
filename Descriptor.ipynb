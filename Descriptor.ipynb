{
 "cells": [
  {
   "attachments": {},
   "cell_type": "markdown",
   "id": "323e8e81",
   "metadata": {},
   "source": [
    "# Introduction\n",
    "This file covers what is Fisher's Iris Dataset, why it is used in data analysis, methods for analysing data in Python and then examples of how this can be done with the Fisher's Iris Dataset. There is a separate Readme that provides a quick guide to the final code."
   ]
  },
  {
   "cell_type": "markdown",
   "id": "5cd7f0f0",
   "metadata": {},
   "source": [
    "# The Fisher's Iris Dataset"
   ]
  },
  {
   "attachments": {},
   "cell_type": "markdown",
   "id": "f7e8cc71",
   "metadata": {},
   "source": [
    "## What is Fisher's Iris Dataset?\n",
    "The Fisher's Iris dataset is a simple dataset of 150 records: 50 records of 3 different types of irises. The data was collected by Edgar Anderson who was trying to work out how one species of Iris evolved from another[(1)][(2)]. He chose to study Iris Versicolour and through his word he discovered that this was actually two species: Iris Versicolour and Iris Virginica. He also studied Iris Setosa and from his investigation he discovered that the Iris Versicolour in North East America is a breeding of Iris Virginica and Irish Setosa.  To complete this research Anderson collected 5 variables from examples of the different irises:\n",
    "1. sepal length in cm\n",
    "2. sepal width in cm\n",
    "3. petal length in cm\n",
    "4. petal width in cm\n",
    "5. class:\n",
    "* Iris Setosa\n",
    "* Iris Versicolour\n",
    "* Iris Virginica\n",
    "\n",
    "The simplicity of the dataset and its relatively small size makes it ideal for statistical analysis, computer science and machine learning. The dataset was famously used by Ronald Fisher in his 1936 paper *The use of multiple measurements in taxonomic problems* [(3)], hence it being commonly known as Fisher’s Iris Dataset. From analysing the data Fisher showed that Iris Setosa could be separated from Iris Versicolour and Iris Virginica. \n",
    "Through this project we are going to use Python to create some visual representations of the data that confirms this differentiation.\n"
   ]
  },
  {
   "attachments": {},
   "cell_type": "markdown",
   "id": "becc5fe4",
   "metadata": {},
   "source": [
    "## Where can it be located?\n",
    "The data set was donated in 1988 by Michael Marshall and is published to the public at UCI Machine Learning Repository [(4)]. "
   ]
  },
  {
   "attachments": {},
   "cell_type": "markdown",
   "id": "bc4fad91",
   "metadata": {},
   "source": [
    "## What are its uses?\n",
    "The Fisher’s Iris Dataset is small, with limited variables and categories (classes of iris), this makes it a great place to test statistical, computer science and machine learning techniques. Fisher’s 1936 paper [(5)] publishing the dataset has been referenced in 8,702 academic papers and sub-set of these use the dataset (rather than the statistical techniques he discovered in the paper) for everything from designing artificial intelligence classifiers [(6)] to testing techniques for handling datasets with missing values [(7)]."
   ]
  },
  {
   "cell_type": "markdown",
   "id": "7f188792",
   "metadata": {},
   "source": [
    "# Analysing data with Python"
   ]
  },
  {
   "attachments": {},
   "cell_type": "markdown",
   "id": "d5439612",
   "metadata": {},
   "source": [
    "## Working with numerical data: numpy\n",
    "Numpy is a library designed for working with numerical data [(8)]. You first need to ensure it is installed on your computer and then import it in your code. Throughout my code I have imported libraries against their commonly used aliases. Using aliases makes the code more efficient to write and can make it easier to read."
   ]
  },
  {
   "cell_type": "code",
   "execution_count": 3,
   "id": "4b7636d4",
   "metadata": {},
   "outputs": [],
   "source": [
    "import numpy as np"
   ]
  },
  {
   "attachments": {},
   "cell_type": "markdown",
   "id": "95d8b716",
   "metadata": {},
   "source": [
    "## Working with datasets: PANDAS\n",
    "The most commonly used tool in Python for working with data sets is Pandas [(9)]. It is a Python library with functions for analysing, cleaning, exploring and manipulating data. The codebase for Pandas is available at: https://github.com/pandas-dev/pandas.\n",
    "\n",
    "Before using Pandas it will need to be installed.  If you already have Spyder or Anaconda installed this already contains Pandas and you don't need to install it again. "
   ]
  },
  {
   "attachments": {},
   "cell_type": "markdown",
   "id": "502a9ea3",
   "metadata": {},
   "source": [
    "An easy way to check if it is installed is to request the version number to be printed to the terminal:"
   ]
  },
  {
   "cell_type": "code",
   "execution_count": 6,
   "id": "0d132d30",
   "metadata": {},
   "outputs": [
    {
     "name": "stdout",
     "output_type": "stream",
     "text": [
      "1.4.4\n"
     ]
    }
   ],
   "source": [
    "print(pd.__version__)"
   ]
  },
  {
   "cell_type": "markdown",
   "id": "0904fad8",
   "metadata": {},
   "source": [
    "Once it is installed it is added to my applications by importing it, this is normally done under the alias pd:"
   ]
  },
  {
   "cell_type": "code",
   "execution_count": 4,
   "id": "563bda4a",
   "metadata": {},
   "outputs": [],
   "source": [
    "import pandas as pd\n"
   ]
  },
  {
   "attachments": {},
   "cell_type": "markdown",
   "id": "d51edbeb",
   "metadata": {},
   "source": [
    "Pandas allows tabulated data such as csv to be imported as a data table, in Pandas this is called a `DataFrame` [(10)].  Pandas allows the importing of data from a variety of file formats or data sources using the format `read_` source type, eg `read_csv` will read in data from a csv file. By default the first line of the file is assumed to be the header file. If the file does not have headers these can added by using names = \" \", \" \"]. \n",
    "\n",
    "The Fisher's Iris Dataset as published at https://archive.ics.uci.edu/ml/datasets/iris [(4)] does not contain headers as these need to be added when creating the DataFrame."
   ]
  },
  {
   "cell_type": "code",
   "execution_count": 27,
   "id": "ebf679f1",
   "metadata": {},
   "outputs": [],
   "source": [
    "df = pd.read_csv(\"https://archive.ics.uci.edu/ml/machine-learning-databases/iris/iris.data\", \n",
    "                   names = [\"sepal length\", \"sepal width\", \"petal length\", \"petal width\", \"species\"])"
   ]
  },
  {
   "attachments": {},
   "cell_type": "markdown",
   "id": "137f6c33",
   "metadata": {},
   "source": [
    "A quick view of the data can be seen by printing `head()` or `info()`. Here I have used `info()` [(5)] to confirm the column names, the number of entries in each column and the datatype."
   ]
  },
  {
   "cell_type": "code",
   "execution_count": 8,
   "id": "27e122fc",
   "metadata": {},
   "outputs": [
    {
     "name": "stdout",
     "output_type": "stream",
     "text": [
      "<class 'pandas.core.frame.DataFrame'>\n",
      "RangeIndex: 150 entries, 0 to 149\n",
      "Data columns (total 5 columns):\n",
      " #   Column        Non-Null Count  Dtype  \n",
      "---  ------        --------------  -----  \n",
      " 0   sepal length  150 non-null    float64\n",
      " 1   sepal width   150 non-null    float64\n",
      " 2   petal length  150 non-null    float64\n",
      " 3   petal width   150 non-null    float64\n",
      " 4   class         150 non-null    object \n",
      "dtypes: float64(4), object(1)\n",
      "memory usage: 6.0+ KB\n",
      "None\n"
     ]
    }
   ],
   "source": [
    "print (df.info())"
   ]
  },
  {
   "attachments": {},
   "cell_type": "markdown",
   "id": "25edad62",
   "metadata": {},
   "source": [
    "The `ìnfo()` command has shown the data has no missing values. This is a useful step to check data before starting analysis.\n",
    "\n",
    "Running the `head()` command by default shows the first five rows [(6)]. A number can inserted in the brackets to show more data. If there is more rows requested than the default max `head()` will only show the truncate the list and suffix it with the last five rows. There is an opposite of the `head()` command called `tail()` that calls the last x number of rows [(6)]. "
   ]
  },
  {
   "cell_type": "code",
   "execution_count": 13,
   "id": "b8c38209",
   "metadata": {},
   "outputs": [
    {
     "name": "stdout",
     "output_type": "stream",
     "text": [
      "    sepal length  sepal width  petal length  petal width        class\n",
      "0            5.1          3.5           1.4          0.2  Iris-setosa\n",
      "1            4.9          3.0           1.4          0.2  Iris-setosa\n",
      "2            4.7          3.2           1.3          0.2  Iris-setosa\n",
      "3            4.6          3.1           1.5          0.2  Iris-setosa\n",
      "4            5.0          3.6           1.4          0.2  Iris-setosa\n",
      "5            5.4          3.9           1.7          0.4  Iris-setosa\n",
      "6            4.6          3.4           1.4          0.3  Iris-setosa\n",
      "7            5.0          3.4           1.5          0.2  Iris-setosa\n",
      "8            4.4          2.9           1.4          0.2  Iris-setosa\n",
      "9            4.9          3.1           1.5          0.1  Iris-setosa\n",
      "10           5.4          3.7           1.5          0.2  Iris-setosa\n",
      "11           4.8          3.4           1.6          0.2  Iris-setosa\n",
      "12           4.8          3.0           1.4          0.1  Iris-setosa\n",
      "13           4.3          3.0           1.1          0.1  Iris-setosa\n",
      "14           5.8          4.0           1.2          0.2  Iris-setosa\n",
      "15           5.7          4.4           1.5          0.4  Iris-setosa\n",
      "16           5.4          3.9           1.3          0.4  Iris-setosa\n",
      "17           5.1          3.5           1.4          0.3  Iris-setosa\n",
      "18           5.7          3.8           1.7          0.3  Iris-setosa\n",
      "19           5.1          3.8           1.5          0.3  Iris-setosa\n",
      "20           5.4          3.4           1.7          0.2  Iris-setosa\n",
      "21           5.1          3.7           1.5          0.4  Iris-setosa\n",
      "22           4.6          3.6           1.0          0.2  Iris-setosa\n",
      "23           5.1          3.3           1.7          0.5  Iris-setosa\n",
      "24           4.8          3.4           1.9          0.2  Iris-setosa\n",
      "25           5.0          3.0           1.6          0.2  Iris-setosa\n",
      "26           5.0          3.4           1.6          0.4  Iris-setosa\n",
      "27           5.2          3.5           1.5          0.2  Iris-setosa\n",
      "28           5.2          3.4           1.4          0.2  Iris-setosa\n",
      "29           4.7          3.2           1.6          0.2  Iris-setosa\n",
      "30           4.8          3.1           1.6          0.2  Iris-setosa\n",
      "31           5.4          3.4           1.5          0.4  Iris-setosa\n",
      "32           5.2          4.1           1.5          0.1  Iris-setosa\n",
      "33           5.5          4.2           1.4          0.2  Iris-setosa\n",
      "34           4.9          3.1           1.5          0.1  Iris-setosa\n",
      "35           5.0          3.2           1.2          0.2  Iris-setosa\n",
      "36           5.5          3.5           1.3          0.2  Iris-setosa\n",
      "37           4.9          3.1           1.5          0.1  Iris-setosa\n",
      "38           4.4          3.0           1.3          0.2  Iris-setosa\n",
      "39           5.1          3.4           1.5          0.2  Iris-setosa\n",
      "40           5.0          3.5           1.3          0.3  Iris-setosa\n",
      "41           4.5          2.3           1.3          0.3  Iris-setosa\n",
      "42           4.4          3.2           1.3          0.2  Iris-setosa\n",
      "43           5.0          3.5           1.6          0.6  Iris-setosa\n",
      "44           5.1          3.8           1.9          0.4  Iris-setosa\n",
      "45           4.8          3.0           1.4          0.3  Iris-setosa\n",
      "46           5.1          3.8           1.6          0.2  Iris-setosa\n",
      "47           4.6          3.2           1.4          0.2  Iris-setosa\n",
      "48           5.3          3.7           1.5          0.2  Iris-setosa\n",
      "49           5.0          3.3           1.4          0.2  Iris-setosa\n"
     ]
    }
   ],
   "source": [
    "print(df.head(50))"
   ]
  },
  {
   "attachments": {},
   "cell_type": "markdown",
   "id": "c094f4d6",
   "metadata": {},
   "source": [
    "If you need to increase the max number of rows that can be displayed this can be done with `options.display.max_rows` [(7)].  Although, you might find it easier to review the data in a text editor."
   ]
  },
  {
   "cell_type": "code",
   "execution_count": 21,
   "id": "2284ad9d",
   "metadata": {},
   "outputs": [
    {
     "name": "stdout",
     "output_type": "stream",
     "text": [
      "     sepal length  sepal width  petal length  petal width            class\n",
      "0             5.1          3.5           1.4          0.2      Iris-setosa\n",
      "1             4.9          3.0           1.4          0.2      Iris-setosa\n",
      "2             4.7          3.2           1.3          0.2      Iris-setosa\n",
      "3             4.6          3.1           1.5          0.2      Iris-setosa\n",
      "4             5.0          3.6           1.4          0.2      Iris-setosa\n",
      "5             5.4          3.9           1.7          0.4      Iris-setosa\n",
      "6             4.6          3.4           1.4          0.3      Iris-setosa\n",
      "7             5.0          3.4           1.5          0.2      Iris-setosa\n",
      "8             4.4          2.9           1.4          0.2      Iris-setosa\n",
      "9             4.9          3.1           1.5          0.1      Iris-setosa\n",
      "10            5.4          3.7           1.5          0.2      Iris-setosa\n",
      "11            4.8          3.4           1.6          0.2      Iris-setosa\n",
      "12            4.8          3.0           1.4          0.1      Iris-setosa\n",
      "13            4.3          3.0           1.1          0.1      Iris-setosa\n",
      "14            5.8          4.0           1.2          0.2      Iris-setosa\n",
      "15            5.7          4.4           1.5          0.4      Iris-setosa\n",
      "16            5.4          3.9           1.3          0.4      Iris-setosa\n",
      "17            5.1          3.5           1.4          0.3      Iris-setosa\n",
      "18            5.7          3.8           1.7          0.3      Iris-setosa\n",
      "19            5.1          3.8           1.5          0.3      Iris-setosa\n",
      "20            5.4          3.4           1.7          0.2      Iris-setosa\n",
      "21            5.1          3.7           1.5          0.4      Iris-setosa\n",
      "22            4.6          3.6           1.0          0.2      Iris-setosa\n",
      "23            5.1          3.3           1.7          0.5      Iris-setosa\n",
      "24            4.8          3.4           1.9          0.2      Iris-setosa\n",
      "25            5.0          3.0           1.6          0.2      Iris-setosa\n",
      "26            5.0          3.4           1.6          0.4      Iris-setosa\n",
      "27            5.2          3.5           1.5          0.2      Iris-setosa\n",
      "28            5.2          3.4           1.4          0.2      Iris-setosa\n",
      "29            4.7          3.2           1.6          0.2      Iris-setosa\n",
      "30            4.8          3.1           1.6          0.2      Iris-setosa\n",
      "31            5.4          3.4           1.5          0.4      Iris-setosa\n",
      "32            5.2          4.1           1.5          0.1      Iris-setosa\n",
      "33            5.5          4.2           1.4          0.2      Iris-setosa\n",
      "34            4.9          3.1           1.5          0.1      Iris-setosa\n",
      "35            5.0          3.2           1.2          0.2      Iris-setosa\n",
      "36            5.5          3.5           1.3          0.2      Iris-setosa\n",
      "37            4.9          3.1           1.5          0.1      Iris-setosa\n",
      "38            4.4          3.0           1.3          0.2      Iris-setosa\n",
      "39            5.1          3.4           1.5          0.2      Iris-setosa\n",
      "40            5.0          3.5           1.3          0.3      Iris-setosa\n",
      "41            4.5          2.3           1.3          0.3      Iris-setosa\n",
      "42            4.4          3.2           1.3          0.2      Iris-setosa\n",
      "43            5.0          3.5           1.6          0.6      Iris-setosa\n",
      "44            5.1          3.8           1.9          0.4      Iris-setosa\n",
      "45            4.8          3.0           1.4          0.3      Iris-setosa\n",
      "46            5.1          3.8           1.6          0.2      Iris-setosa\n",
      "47            4.6          3.2           1.4          0.2      Iris-setosa\n",
      "48            5.3          3.7           1.5          0.2      Iris-setosa\n",
      "49            5.0          3.3           1.4          0.2      Iris-setosa\n",
      "50            7.0          3.2           4.7          1.4  Iris-versicolor\n",
      "51            6.4          3.2           4.5          1.5  Iris-versicolor\n",
      "52            6.9          3.1           4.9          1.5  Iris-versicolor\n",
      "53            5.5          2.3           4.0          1.3  Iris-versicolor\n",
      "54            6.5          2.8           4.6          1.5  Iris-versicolor\n",
      "55            5.7          2.8           4.5          1.3  Iris-versicolor\n",
      "56            6.3          3.3           4.7          1.6  Iris-versicolor\n",
      "57            4.9          2.4           3.3          1.0  Iris-versicolor\n",
      "58            6.6          2.9           4.6          1.3  Iris-versicolor\n",
      "59            5.2          2.7           3.9          1.4  Iris-versicolor\n",
      "60            5.0          2.0           3.5          1.0  Iris-versicolor\n",
      "61            5.9          3.0           4.2          1.5  Iris-versicolor\n",
      "62            6.0          2.2           4.0          1.0  Iris-versicolor\n",
      "63            6.1          2.9           4.7          1.4  Iris-versicolor\n",
      "64            5.6          2.9           3.6          1.3  Iris-versicolor\n",
      "65            6.7          3.1           4.4          1.4  Iris-versicolor\n",
      "66            5.6          3.0           4.5          1.5  Iris-versicolor\n",
      "67            5.8          2.7           4.1          1.0  Iris-versicolor\n",
      "68            6.2          2.2           4.5          1.5  Iris-versicolor\n",
      "69            5.6          2.5           3.9          1.1  Iris-versicolor\n",
      "70            5.9          3.2           4.8          1.8  Iris-versicolor\n",
      "71            6.1          2.8           4.0          1.3  Iris-versicolor\n",
      "72            6.3          2.5           4.9          1.5  Iris-versicolor\n",
      "73            6.1          2.8           4.7          1.2  Iris-versicolor\n",
      "74            6.4          2.9           4.3          1.3  Iris-versicolor\n",
      "75            6.6          3.0           4.4          1.4  Iris-versicolor\n",
      "76            6.8          2.8           4.8          1.4  Iris-versicolor\n",
      "77            6.7          3.0           5.0          1.7  Iris-versicolor\n",
      "78            6.0          2.9           4.5          1.5  Iris-versicolor\n",
      "79            5.7          2.6           3.5          1.0  Iris-versicolor\n",
      "80            5.5          2.4           3.8          1.1  Iris-versicolor\n",
      "81            5.5          2.4           3.7          1.0  Iris-versicolor\n",
      "82            5.8          2.7           3.9          1.2  Iris-versicolor\n",
      "83            6.0          2.7           5.1          1.6  Iris-versicolor\n",
      "84            5.4          3.0           4.5          1.5  Iris-versicolor\n",
      "85            6.0          3.4           4.5          1.6  Iris-versicolor\n",
      "86            6.7          3.1           4.7          1.5  Iris-versicolor\n",
      "87            6.3          2.3           4.4          1.3  Iris-versicolor\n",
      "88            5.6          3.0           4.1          1.3  Iris-versicolor\n",
      "89            5.5          2.5           4.0          1.3  Iris-versicolor\n",
      "90            5.5          2.6           4.4          1.2  Iris-versicolor\n",
      "91            6.1          3.0           4.6          1.4  Iris-versicolor\n",
      "92            5.8          2.6           4.0          1.2  Iris-versicolor\n",
      "93            5.0          2.3           3.3          1.0  Iris-versicolor\n",
      "94            5.6          2.7           4.2          1.3  Iris-versicolor\n",
      "95            5.7          3.0           4.2          1.2  Iris-versicolor\n",
      "96            5.7          2.9           4.2          1.3  Iris-versicolor\n",
      "97            6.2          2.9           4.3          1.3  Iris-versicolor\n",
      "98            5.1          2.5           3.0          1.1  Iris-versicolor\n",
      "99            5.7          2.8           4.1          1.3  Iris-versicolor\n",
      "100           6.3          3.3           6.0          2.5   Iris-virginica\n",
      "101           5.8          2.7           5.1          1.9   Iris-virginica\n",
      "102           7.1          3.0           5.9          2.1   Iris-virginica\n",
      "103           6.3          2.9           5.6          1.8   Iris-virginica\n",
      "104           6.5          3.0           5.8          2.2   Iris-virginica\n",
      "105           7.6          3.0           6.6          2.1   Iris-virginica\n",
      "106           4.9          2.5           4.5          1.7   Iris-virginica\n",
      "107           7.3          2.9           6.3          1.8   Iris-virginica\n",
      "108           6.7          2.5           5.8          1.8   Iris-virginica\n",
      "109           7.2          3.6           6.1          2.5   Iris-virginica\n",
      "110           6.5          3.2           5.1          2.0   Iris-virginica\n",
      "111           6.4          2.7           5.3          1.9   Iris-virginica\n",
      "112           6.8          3.0           5.5          2.1   Iris-virginica\n",
      "113           5.7          2.5           5.0          2.0   Iris-virginica\n",
      "114           5.8          2.8           5.1          2.4   Iris-virginica\n",
      "115           6.4          3.2           5.3          2.3   Iris-virginica\n",
      "116           6.5          3.0           5.5          1.8   Iris-virginica\n",
      "117           7.7          3.8           6.7          2.2   Iris-virginica\n",
      "118           7.7          2.6           6.9          2.3   Iris-virginica\n",
      "119           6.0          2.2           5.0          1.5   Iris-virginica\n",
      "120           6.9          3.2           5.7          2.3   Iris-virginica\n",
      "121           5.6          2.8           4.9          2.0   Iris-virginica\n",
      "122           7.7          2.8           6.7          2.0   Iris-virginica\n",
      "123           6.3          2.7           4.9          1.8   Iris-virginica\n",
      "124           6.7          3.3           5.7          2.1   Iris-virginica\n",
      "125           7.2          3.2           6.0          1.8   Iris-virginica\n",
      "126           6.2          2.8           4.8          1.8   Iris-virginica\n",
      "127           6.1          3.0           4.9          1.8   Iris-virginica\n",
      "128           6.4          2.8           5.6          2.1   Iris-virginica\n",
      "129           7.2          3.0           5.8          1.6   Iris-virginica\n",
      "130           7.4          2.8           6.1          1.9   Iris-virginica\n",
      "131           7.9          3.8           6.4          2.0   Iris-virginica\n",
      "132           6.4          2.8           5.6          2.2   Iris-virginica\n",
      "133           6.3          2.8           5.1          1.5   Iris-virginica\n",
      "134           6.1          2.6           5.6          1.4   Iris-virginica\n",
      "135           7.7          3.0           6.1          2.3   Iris-virginica\n",
      "136           6.3          3.4           5.6          2.4   Iris-virginica\n",
      "137           6.4          3.1           5.5          1.8   Iris-virginica\n",
      "138           6.0          3.0           4.8          1.8   Iris-virginica\n",
      "139           6.9          3.1           5.4          2.1   Iris-virginica\n",
      "140           6.7          3.1           5.6          2.4   Iris-virginica\n",
      "141           6.9          3.1           5.1          2.3   Iris-virginica\n",
      "142           5.8          2.7           5.1          1.9   Iris-virginica\n",
      "143           6.8          3.2           5.9          2.3   Iris-virginica\n",
      "144           6.7          3.3           5.7          2.5   Iris-virginica\n",
      "145           6.7          3.0           5.2          2.3   Iris-virginica\n",
      "146           6.3          2.5           5.0          1.9   Iris-virginica\n",
      "147           6.5          3.0           5.2          2.0   Iris-virginica\n",
      "148           6.2          3.4           5.4          2.3   Iris-virginica\n",
      "149           5.9          3.0           5.1          1.8   Iris-virginica\n"
     ]
    }
   ],
   "source": [
    "pd.options.display.max_rows = 160\n",
    "print (df)"
   ]
  },
  {
   "cell_type": "code",
   "execution_count": null,
   "id": "7fd7b9f7",
   "metadata": {},
   "outputs": [],
   "source": [
    "pd.options.display.max_rows = 160\n",
    "print (df)"
   ]
  },
  {
   "attachments": {},
   "cell_type": "markdown",
   "id": "71fd772d",
   "metadata": {},
   "source": [
    "The above information can be used to identify columns with null values and the user can make decisions how to handle these, for example, the whole row could be removed or the missing value replaced with the mean for the column. Fisher's Iris data set is not missing any values. Another useful test is to check for duplicated values using the `duplicated()` [(8)]. "
   ]
  },
  {
   "cell_type": "code",
   "execution_count": 18,
   "id": "2dc312b9",
   "metadata": {},
   "outputs": [
    {
     "name": "stdout",
     "output_type": "stream",
     "text": [
      "0      False\n",
      "1      False\n",
      "2      False\n",
      "3      False\n",
      "4      False\n",
      "       ...  \n",
      "145    False\n",
      "146    False\n",
      "147    False\n",
      "148    False\n",
      "149    False\n",
      "Length: 150, dtype: bool\n"
     ]
    }
   ],
   "source": [
    "print(df.duplicated())"
   ]
  },
  {
   "attachments": {},
   "cell_type": "markdown",
   "id": "d0200cb6",
   "metadata": {},
   "source": [
    "Within Pandas there are methods to clean empty cells, change cell format, clean incorrect data and remove duplicates [(9)]. "
   ]
  },
  {
   "attachments": {},
   "cell_type": "markdown",
   "id": "0e8782e4",
   "metadata": {},
   "source": [
    "Within Pandas basic statistics about a column (series\n",
    ") of data can be calculated using the format [(10)]."
   ]
  },
  {
   "cell_type": "code",
   "execution_count": 14,
   "id": "be92a026",
   "metadata": {},
   "outputs": [
    {
     "name": "stdout",
     "output_type": "stream",
     "text": [
      "count    150.000000\n",
      "mean       5.843333\n",
      "std        0.828066\n",
      "min        4.300000\n",
      "25%        5.100000\n",
      "50%        5.800000\n",
      "75%        6.400000\n",
      "max        7.900000\n",
      "Name: sepal length, dtype: float64\n"
     ]
    }
   ],
   "source": [
    "print(df[\"sepal length\"].describe())"
   ]
  },
  {
   "attachments": {},
   "cell_type": "markdown",
   "id": "d6613028",
   "metadata": {},
   "source": [
    "## Outputting statistical analyses of data\n",
    "\n",
    "### Writing to a file\n",
    "Outputting information about the dataset to the terminal is useful in the early stages of investigating a data set and checking the DataFrame has been created properly, but it is much more useful to output statistical information to a text file.  This can be done with the `with open` command [(11)]. Variables being entered on single lines are added with `f.write()` and multiple lines [(12)] are added with `f.writelines()`. The variables must be converted into a strong before they can be written to the file [(13)]. `F string` [(14)] can be used to help format the text for the file. Once all the text has been added to the file `f.close()` is used to close the file."
   ]
  },
  {
   "cell_type": "code",
   "execution_count": 10,
   "id": "e501dbd9",
   "metadata": {},
   "outputs": [],
   "source": [
    "with open('Ztest.txt', 'w') as f:\n",
    "    min = df['petal length'].min()\n",
    "    f.write(str(min))\n",
    "    f.close()"
   ]
  },
  {
   "attachments": {},
   "cell_type": "markdown",
   "id": "ec9bdb35",
   "metadata": {},
   "source": [
    "If you wish to capture a DataFrame in a text file then the `Pandas.DataFrame.to_string` command is used [(15)]. This is really useful for outputting something like the Pandas `describe()` function to a file."
   ]
  },
  {
   "cell_type": "code",
   "execution_count": 12,
   "id": "cc7f962e",
   "metadata": {},
   "outputs": [],
   "source": [
    "with open('Ztest.txt', 'a') as f:\n",
    "  table = df.describe()\n",
    "  stringtable = table.to_string(header=True, index =True)\n",
    "  f.writelines(stringtable) \n",
    "  f.close()"
   ]
  },
  {
   "cell_type": "markdown",
   "id": "4a7b0a85",
   "metadata": {},
   "source": [
    "\n",
    "### Statistical analysis"
   ]
  },
  {
   "attachments": {},
   "cell_type": "markdown",
   "id": "9b4f0f37",
   "metadata": {},
   "source": [
    "To look a particular column, known as a series in Pandas, within a DataFrame the following syntax is used `DataFrame[Series]`[(16)]. Using this format statistical information about the data can be evaluated amd stored as a variable. With the statistical information being stored in individual variables this gives maximum control over how the information is laid out in the output. Escape charters like `\\n` which starts a new line can be used in this formatting/ "
   ]
  },
  {
   "cell_type": "code",
   "execution_count": 16,
   "id": "97404c80",
   "metadata": {},
   "outputs": [
    {
     "name": "stdout",
     "output_type": "stream",
     "text": [
      "\n",
      "The minimum value is: 1.0cm \n",
      "The maximum value is: 6.9cm\n"
     ]
    }
   ],
   "source": [
    "min = str(df['petal length'].min())\n",
    "max = str(df['petal length'].max())\n",
    "print(f'\\nThe minimum value is: {min}cm \\nThe maximum value is: {max}cm')"
   ]
  },
  {
   "attachments": {},
   "cell_type": "markdown",
   "id": "025814b1",
   "metadata": {},
   "source": [
    "Instead of creating the individual analyses the `describe()` function could be used. For Fisher's Iris Dataset the `describe()` function is really useful for comparing the statistical information by species. To do this you first need to know the name of the iris species in the dataset. the `unique()` function in Pandas is great for this [(17)]."
   ]
  },
  {
   "cell_type": "code",
   "execution_count": 23,
   "id": "abf09967",
   "metadata": {},
   "outputs": [
    {
     "name": "stdout",
     "output_type": "stream",
     "text": [
      "['Iris-setosa' 'Iris-versicolor' 'Iris-virginica']\n"
     ]
    }
   ],
   "source": [
    "irisspecies = df.species.unique()\n",
    "print(irisspecies)"
   ]
  },
  {
   "attachments": {},
   "cell_type": "markdown",
   "id": "be3326af",
   "metadata": {},
   "source": [
    "Then a subset of the whole set should be selected using one of the species names as the separator [(18)]. This information can be printed to a file using `to_string()` as described previously."
   ]
  },
  {
   "cell_type": "code",
   "execution_count": 29,
   "id": "35050e3d",
   "metadata": {},
   "outputs": [
    {
     "name": "stdout",
     "output_type": "stream",
     "text": [
      "       sepal length  sepal width  petal length  petal width\n",
      "count      50.00000    50.000000     50.000000     50.00000\n",
      "mean        5.00600     3.418000      1.464000      0.24400\n",
      "std         0.35249     0.381024      0.173511      0.10721\n",
      "min         4.30000     2.300000      1.000000      0.10000\n",
      "25%         4.80000     3.125000      1.400000      0.20000\n",
      "50%         5.00000     3.400000      1.500000      0.20000\n",
      "75%         5.20000     3.675000      1.575000      0.30000\n",
      "max         5.80000     4.400000      1.900000      0.60000\n"
     ]
    }
   ],
   "source": [
    "setosa = df[df[\"species\"] == \"Iris-setosa\"]\n",
    "describesetosa = setosa.describe()\n",
    "print(describesetosa.to_string(header=True, index =True))\n"
   ]
  },
  {
   "cell_type": "markdown",
   "id": "54bb6c56",
   "metadata": {},
   "source": [
    "## Plotting data\n",
    "Data visualisation helps makes complex data sources more easy to understand via graphics. Matplotlib and Seaborn are the most commonly used data visualisation tools in Python.\n",
    "### Matplotlib\n",
    "Matplotlib is a library for the plotting of data. It works alongside Pandas and Numpy. The codebase for Matplotlib is available at https://github.com/matplotlib/matplotlib. The figures can be interactive, the plots can be formatted and exported into a variety of formats. Matplotlib is normally imported under the alias 'plt'. Most of the Matplotlib utilities are in the pyplot sublibrary and therefore, it is often imported at this level. "
   ]
  },
  {
   "cell_type": "code",
   "execution_count": 6,
   "id": "4f016bf7",
   "metadata": {},
   "outputs": [],
   "source": [
    "import matplotlib.pyplot as plt"
   ]
  },
  {
   "cell_type": "markdown",
   "id": "d96de41e",
   "metadata": {},
   "source": [
    "### Seaborn\n",
    "Seaborn is also a Python library and it can make more complicated plots. It is basically a more complicated overlay on matplotlib. There is extensive information available at: https://seaborn.pydata.org/index.html"
   ]
  },
  {
   "cell_type": "markdown",
   "id": "6b1d9082",
   "metadata": {},
   "source": [
    "### Matplotlib or Seaborn: Which is better?\n",
    "As is often the case with this question, the answer is, it depends on what you are trying to do. Matplotlib is good at making basic graphs including barcharts, piecharts and scatterplots. Seaborn is an extended version of matplotlib and uses matplotlib, pandas and numpy to make visualisations. The following table is based on the one at: https://www.geeksforgeeks.org/difference-between-matplotlib-vs-seaborn/. \n",
    "\n",
    "|Area |Matplotlib |Seaborn |\n",
    "|--|-----------|---------|\n",
    "|Function|Basic charts including bar charts, pie charts and scatter plots | More complicated plots. It can provide a plot of all data one plot.|\n",
    "|Syntax|Is quite lengthy eg matplotlib.pyplot.hist(x_axis, y_axis)|Is a little simpler and easier to learn eg seaborn.histplot(x_axis, y_axis)|\n",
    "|Multiple plots|Can open and use multiple plots at a time. Need to be closed.|Time set for the creation of each plot, this can lead to out of memory errors|\n",
    "|Visualisation|Provides similar output and syntax as MATLAB, so great for those already familiar with MATLAB| More comfortable at handling Pandas dataframes. Great variety of nice looking visualisations can be created|\n",
    "|Data frames and arrays|Works efficiently with data frames and arrays. Plot() can be called without parameters.|Whole data set is treated as a simple unit and parameters are needed when calling plot().|"
   ]
  },
  {
   "cell_type": "markdown",
   "id": "c6e0befc",
   "metadata": {},
   "source": [
    "# How to run the code"
   ]
  },
  {
   "cell_type": "markdown",
   "id": "92e86dcd",
   "metadata": {},
   "source": [
    "## Explaining the repository\n",
    "The repository on github (https://github.com/kknb1982/pands-project) includes both the code and the output file. The code and how the file contents are created are described in later sections of this notebook, but here is a brief explanation of each file:\n",
    "* Analysis.py: This is the file to run to create the dataframe and plots\n",
    "* Petal Length.png: This is a histogram of the Petal Length data split by Species of Iris\n",
    "* Petal Width.png: This is a histogram of the Petal Width data split by Species of Iris\n",
    "* Sepal Length.png: This is a histogram of the Sepal Length data split by Species of Iris\n",
    "* Sepal Width.png: This is a histogram of the Sepal Width data split by Species of Iris\n",
    "* combinedhist.png: This fiel contains histograms of the variable data it is not segregated by species\n",
    "* pairplot.png: This file uses the Seaborn parplot function to output multiple scatterplots of two variables. The plots are coloured by species.\n",
    "* summary.txt: Gives a summary of each variable\n",
    "* variablemodule.py: Contains all the code for the functions and importing the dataset\n"
   ]
  },
  {
   "cell_type": "markdown",
   "id": "3777a1fc",
   "metadata": {},
   "source": [
    "## Importing the dataset \n",
    "The Fisher's Iris data set is published at https://archive.ics.uci.edu/ml/datasets/iris. The CSV file for the data is at https://archive.ics.uci.edu/ml/machine-learning-databases/iris/iris.data and the details for the headers is in https://archive.ics.uci.edu/ml/machine-learning-databases/iris/iris.names.  To import the dataset I am using Pandas as first I need to import the Pandas library. I have used the alias `pd`.\n"
   ]
  },
  {
   "cell_type": "code",
   "execution_count": 1,
   "id": "4cf38927",
   "metadata": {},
   "outputs": [],
   "source": [
    "import pandas as pd"
   ]
  },
  {
   "cell_type": "markdown",
   "id": "432be35c",
   "metadata": {},
   "source": [
    "The source dataset does not include the headers, so we need to create these. "
   ]
  },
  {
   "cell_type": "code",
   "execution_count": 2,
   "id": "621eab21",
   "metadata": {},
   "outputs": [],
   "source": [
    "# Create the variable names\n",
    "sepallen = \"Sepal Length\"\n",
    "sepalwid = \"Sepal Width\"\n",
    "petallen = \"Petal Length\"\n",
    "petalwid = \"Petal Width\"\n",
    "species = \"Species\"\n",
    "\n",
    "datafields = sepallen, sepalwid, petallen, petalwid, species"
   ]
  },
  {
   "cell_type": "markdown",
   "id": "22ce1841",
   "metadata": {},
   "source": [
    "When importing the dataset we add the argument `names=` to add the correct header data. Our dataset is in a comma separated file so we use the command `read_csv`"
   ]
  },
  {
   "cell_type": "code",
   "execution_count": 3,
   "id": "f795c224",
   "metadata": {},
   "outputs": [],
   "source": [
    "dataf = pd.read_csv(\"https://archive.ics.uci.edu/ml/machine-learning-databases/iris/iris.data\", names = datafields)"
   ]
  },
  {
   "cell_type": "markdown",
   "id": "ca98e1d6",
   "metadata": {},
   "source": [
    "# Analysing Fisher's Iris Dataset\n",
    "## Summary text file\n",
    "A summary of each variable to a single text file"
   ]
  },
  {
   "cell_type": "markdown",
   "id": "98f40257",
   "metadata": {},
   "source": [
    "## Histogram of each variable\n",
    "There is a greate resource at : https://realpython.com/python-histograms/ all about the different methods of creating histograms in Python.\n",
    "\n",
    "### Create simple histogram\n",
    "First I created a simple histogram using the Pandas `hist()` method. Thsis automatically creates a histogram of each variable and outputs at one time.  From these plots you can see that Sepal Width appears to have normal type distribution a\n"
   ]
  },
  {
   "cell_type": "code",
   "execution_count": 7,
   "id": "bd1825c3",
   "metadata": {},
   "outputs": [
    {
     "data": {
      "text/plain": [
       "array([[<AxesSubplot:title={'center':'Sepal Length'}>,\n",
       "        <AxesSubplot:title={'center':'Sepal Width'}>],\n",
       "       [<AxesSubplot:title={'center':'Petal Length'}>,\n",
       "        <AxesSubplot:title={'center':'Petal Width'}>]], dtype=object)"
      ]
     },
     "execution_count": 7,
     "metadata": {},
     "output_type": "execute_result"
    },
    {
     "data": {
      "image/png": "[encoded data removed]",
      "text/plain": [
       "<Figure size 640x480 with 4 Axes>"
      ]
     },
     "metadata": {},
     "output_type": "display_data"
    }
   ],
   "source": [
    "dataf.hist()"
   ]
  },
  {
   "cell_type": "markdown",
   "id": "88ca1fea",
   "metadata": {},
   "source": [
    "In order to save the combined plot to the file, we first need to install `matplotlib.pyplot`. I imported this under the alias `plt` as is common practice. The command to save the figure rather than output to the terminal is `plt.savefig()`."
   ]
  },
  {
   "cell_type": "code",
   "execution_count": null,
   "id": "68aacaa3",
   "metadata": {},
   "outputs": [],
   "source": [
    "import matplotlib.pyplot as plt\n",
    "plt.savefig('combinedhist.png')"
   ]
  },
  {
   "cell_type": "markdown",
   "id": "e76510de",
   "metadata": {},
   "source": [
    "### Histogram showing species\n",
    "Next I used the Seaborn library to create a more complicated histogram showing the species of the Iris. To do this import `seaborn`\n"
   ]
  },
  {
   "cell_type": "code",
   "execution_count": 8,
   "id": "3344633e",
   "metadata": {},
   "outputs": [],
   "source": [
    "import seaborn as sns"
   ]
  },
  {
   "cell_type": "markdown",
   "id": "b1ab7312",
   "metadata": {},
   "source": [
    "Then there is a `for` loop to work through each variable in turn. There is a nested `if` loop to ignore the species column as this is not numerical.\n",
    "\n",
    "The format for creating a histplot in seaborn is `sns.histplot()`. Parameters can be added to the call for a plot, there is great information about this at: https://seaborn.pydata.org/generated/seaborn.histplot.html?highlight=hist#seaborn.histplot\n",
    "\n"
   ]
  },
  {
   "cell_type": "code",
   "execution_count": null,
   "id": "89d276dd",
   "metadata": {},
   "outputs": [],
   "source": [
    "for name in datafields:\n",
    "        if name != species:\n",
    "            sns.histplot(data=dataf, x=name, hue=species, binwidth=0.5)\n",
    "            plt.savefig(name+ '.png')"
   ]
  },
  {
   "cell_type": "markdown",
   "id": "95c55f11",
   "metadata": {},
   "source": []
  },
  {
   "cell_type": "markdown",
   "id": "6e53740c",
   "metadata": {},
   "source": [
    "Historgrams to be saved to the repository\n",
    "https://www.geeksforgeeks.org/how-to-create-a-histogram-from-pandas-dataframe/\n",
    "\n",
    "## Scatterplots of pairs of variables\n",
    "To be saved in the repository\n",
    "\n",
    "## Boxplots  \n"
   ]
  },
  {
   "attachments": {
    "box-and-whisker-plot.jpg": {
     "image/jpeg": "[encoded data removed]"
    }
   },
   "cell_type": "markdown",
   "id": "fec4a819",
   "metadata": {},
   "source": [
    "![box-and-whisker-plot.jpg](attachment:box-and-whisker-plot.jpg)"
   ]
  },
  {
   "cell_type": "markdown",
   "id": "6e85a8f0",
   "metadata": {},
   "source": [
    "diagram is reproduced from https://aiaspirant.com/box-plot/"
   ]
  },
  {
   "cell_type": "markdown",
   "id": "748131ea",
   "metadata": {},
   "source": [
    "# References\n",
    "1. Anderson, E. (1936). The species problem in Iris. Annals of the Missouri Botanical Garden, 23(3), 457-509.\n",
    "\n",
    "2. Anderson, E. (1935). The irises of the Gaspe Peninsula. Bulletin American Iris Society, 39, 2-15\n",
    "\n",
    "3. Fisher, R. A. (1936). The use of multiple measurements in taxonomic problems. Annals of eugenics, 7(2), 179-188 https://onlinelibrary.wiley.com/doi/abs/10.1111/j.1469-1809.1936.tb02137.x\n",
    "\n",
    "4.\tUCI Machine Learning Repository: Iris Data Set [Internet]. [cited 2023 Apr 18]. Available from: https://archive.ics.uci.edu/ml/datasets/iris\n",
    "\n",
    "5. \n",
    "\n",
    "6.\tCategorical data — pandas 2.0.1 documentation [Internet]. [cited 2023 Apr 24]. Available from: https://pandas.pydata.org/pandas-docs/stable/user_guide/categorical.html\n",
    "\n",
    "8.\tPython Histogram Plotting: NumPy, Matplotlib, pandas & Seaborn – Real Python [Internet]. [cited 2023 Apr 22]. Available from: https://realpython.com/python-histograms/\n",
    "9.\tseaborn.pairplot — seaborn 0.12.2 documentation [Internet]. [cited 2023 Apr 22]. Available from: https://seaborn.pydata.org/generated/seaborn.pairplot.html\n",
    "10.\tpython - Save plot to image file instead of displaying it - Stack Overflow [Internet]. [cited 2023 Apr 22]. Available from: https://stackoverflow.com/questions/9622163/save-plot-to-image-file-instead-of-displaying-it\n",
    "11.\tHow do I select a subset of a DataFrame? — pandas 2.0.0 documentation [Internet]. [cited 2023 Apr 22]. Available from: https://pandas.pydata.org/pandas-docs/stable/getting_started/intro_tutorials/03_subset_data.html\n",
    "7.\tMatplotlib — Visualization with Python [Internet]. [cited 2023 Apr 18]. Available from: https://matplotlib.org/\n",
    "12.\tIO tools (text, CSV, HDF5, …) — pandas 2.0.0 documentation [Internet]. [cited 2023 Apr 18]. Available from: https://pandas.pydata.org/pandas-docs/stable/user_guide/io.html#csv-text-files\n",
    "\n",
    "\n",
    "\n",
    "\n",
    "\n",
    "https://github.com/pandas-dev/pandas"
   ]
  }
 ],
 "metadata": {
  "kernelspec": {
   "display_name": "Python 3 (ipykernel)",
   "language": "python",
   "name": "python3"
  },
  "language_info": {
   "codemirror_mode": {
    "name": "ipython",
    "version": 3
   },
   "file_extension": ".py",
   "mimetype": "text/x-python",
   "name": "python",
   "nbconvert_exporter": "python",
   "pygments_lexer": "ipython3",
   "version": "3.9.13"
  }
 },
 "nbformat": 4,
 "nbformat_minor": 5
}
