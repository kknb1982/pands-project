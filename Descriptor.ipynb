{
 "cells": [
  {
   "attachments": {},
   "cell_type": "markdown",
   "id": "323e8e81",
   "metadata": {},
   "source": [
    "# Introduction\n",
    "This file covers what is Fisher's Iris Dataset, why it is used in data analysis, methods for visually analysing data in Python and then examples of how this can be done with the Fisher's Iris Dataset. There is a separate Readme that provides a quick guide to the final code."
   ]
  },
  {
   "cell_type": "markdown",
   "id": "65838c2e",
   "metadata": {},
   "source": [
    "# Table of Contents\n",
    "\n",
    "1. [Introduction](#Introduction)\n",
    "\n",
    "2. [The Fisher's Iris Dataset](#The-Fisher's-Iris-Dataset)\n",
    "\n",
    "    2.1 [What is Fisher's Iris Dataset?](#The-Fisher's-Iris-Dataset?)  \n",
    "    \n",
    "    2.2 [Where can it be located?](#Where-can-it-be-located?)  \n",
    "    \n",
    "    2.3 [What are its uses?](#What-are-its-uses?)\n",
    "    \n",
    "    2.4 [References for the dataset](#References for the dataset)\n",
    "\n",
    "3. [Importing and checking data with Python](#Importing-and-checking-data-with-Python)  \n",
    "\n",
    "    3.1 [Working with numerical data: numpy](#Working-with-numerical-data:-numpy)\n",
    "    \n",
    "    3.2 [Working with datasets: PANDAS](#Working-with-datasets:-PANDAS)\n",
    "    \n",
    "    3.3 [References for importing and checking data](#References-for-importing-and-checking-data)\n",
    "    \n",
    "4. [Outputting statistical analyses of data](#Outputting-statistical-analyses-of-data)\n",
    "    \n",
    "    4.1 [Writing to a file](#Writing-to-a-file)\n",
    "    \n",
    "    4.2 [Statistical analysis](#Statistical-analysis)\n",
    "    \n",
    "    4.3 [References for outputting statistical analyses of data](#References-for-outputting-statistical-analyses-of-data)\n",
    "    \n",
    "5. [Plotting data](#Plotting-data)\n",
    "    \n",
    "    5.1 [Matplotlib](#Matplotlib)\n",
    "    \n",
    "    5.2 [Seaborn](#Seaborn)\n",
    "    \n",
    "    5.3 [Matplotlib or Seaborn: Which is better?](#Matplotlib-or-Seaborn:-Which-is-better?)\n",
    "    \n",
    "    5.4. [Histogram of each variable](#Histogram-of-each-variable)    \n",
    "    \n",
    "    5.5 [Scatterplots of pairs of variables](#Scatterplots-of-pairs-of-variables)\n",
    "    \n",
    "6. [Interesting further analyses](#Interesting-further-analyses)\n",
    "\n",
    "    6.1 [Boxplot](#Boxplot)\n",
    "    \n",
    "    6.2 [Violin plot](#Violin-plot)\n",
    "    \n",
    "7. [Further work](#Further-work)\n",
    "\n",
    "8. [References](#References)"
   ]
  },
  {
   "cell_type": "markdown",
   "id": "5cd7f0f0",
   "metadata": {},
   "source": [
    "# The Fisher's Iris Dataset"
   ]
  },
  {
   "attachments": {},
   "cell_type": "markdown",
   "id": "f7e8cc71",
   "metadata": {},
   "source": [
    "## What is Fisher's Iris Dataset?\n",
    "The Fisher's Iris dataset is a simple dataset of 150 records: 50 records of 3 different types of irises. The data was collected by Edgar Anderson who was trying to work out how one species of Iris evolved from another [1],[2]. He chose to study Iris Versicolour and through his work he discovered that this was actually two species: Iris Versicolour and Iris Virginica. He also studied Iris Setosa and from his investigation he discovered that the Iris Versicolour in North East America is a breeding of Iris Virginica and Irish Setosa.  To complete this research Anderson collected 5 variables from examples of the different irises:\n",
    "1. sepal length in cm\n",
    "2. sepal width in cm\n",
    "3. petal length in cm\n",
    "4. petal width in cm\n",
    "5. class:\n",
    "* Iris Setosa\n",
    "* Iris Versicolour\n",
    "* Iris Virginica\n",
    "\n",
    "The simplicity of the dataset and its relatively small size makes it ideal for statistical analysis, computer science and machine learning. The dataset was published by Ronald Fisher in his 1936 paper *The use of multiple measurements in taxonomic problems* [3], hence it being commonly known as Fisher’s Iris Dataset. From analysing the data Fisher showed that Iris Setosa could be separated from Iris Versicolour and Iris Virginica. \n",
    "Through this project we are going to use Python to create some visual representations of the data that confirms this differentiation.\n"
   ]
  },
  {
   "cell_type": "markdown",
   "id": "becc5fe4",
   "metadata": {},
   "source": [
    "## Where can it be located?\n",
    "The data set was donated in 1988 by Michael Marshall and is published to the public at [UCI Machine Learning Repository](https://archive.ics.uci.edu/ml/datasets/Iris/) [4]. "
   ]
  },
  {
   "cell_type": "markdown",
   "id": "bc4fad91",
   "metadata": {},
   "source": [
    "## What are its uses?\n",
    "The Fisher’s Iris Dataset is small, with limited variables and categories (classes of iris), this makes it a great place to test statistical, computer science and machine learning techniques. Fisher’s 1936 [3] paper publishing the dataset has been referenced in 8,702 academic papers and sub-set of these use the dataset (rather than the statistical techniques he discovered in the paper) for everything from designing artificial intelligence classifiers [5] to testing techniques for handling datasets with missing values [6]."
   ]
  },
  {
   "cell_type": "markdown",
   "id": "b168eca3",
   "metadata": {},
   "source": [
    "## References for the dataset\n",
    "[1]: https://cir.nii.ac.jp/crid/1574231874415574912 \"Anderson, E. (1935). The irises of the Gaspe Peninsula. Bulletin American Iris Society, 39, 2-15\".\n",
    "\n",
    "[2]: https://www.jstor.org/stable/2394164?origin=crossref> \"Anderson, E. (1936). The species problem in Iris. Annals of the Missouri Botanical Garden, 23(3), 457-509\".\n",
    "\n",
    "[3]: https://onlinelibrary.wiley.com/doi/abs/10.1111/j.1469-1809.1936.tb02137.x \"Fisher, R. A. (1936). The use of multiple measurements in taxonomic problems. Annals of eugenics, 7(2), 179-188\".\n",
    "\n",
    "[4]: https://archive.ics.uci.edu/ml/datasets/Iris/ \"UCI Machine Learning Repository: Iris Data Set [Internet]. [cited 2023 Apr 18]\".\n",
    "\n",
    "[5]: http://aetic.theiaer.org/archive/v7/v7n1/p5.html \"Ursani Z, Ursani AA. The Theory of Probabilistic Hierarchical Learning for Classification. Annals of Emerging Technologies in Computing [Internet]. 2023 Jan 1;7(1):61–74\". \n",
    "\n",
    "[6]: https://www.mdpi.com/2079-9292/11/6/837/htm \"Poudevigne-Durance T, Jones OD, Qin Y. MaWGAN: A Generative Adversarial Network to Create Synthetic Data from Datasets with Missing Data. Electronics 2022, Vol 11, Page 837 [Internet]. 2022 Mar 8 [cited 2023 May 8];11(6):837\"."
   ]
  },
  {
   "cell_type": "markdown",
   "id": "7f188792",
   "metadata": {},
   "source": [
    "# Importing and checking data with Python"
   ]
  },
  {
   "cell_type": "markdown",
   "id": "d5439612",
   "metadata": {},
   "source": [
    "## Working with numerical data: numpy\n",
    "Numpy is a library designed for working with numerical data [7]. You first need to ensure it is installed on your computer and then import it in your code. Throughout my code I have imported libraries against their commonly used aliases. Using aliases makes the code more efficient to write and can make it easier to read."
   ]
  },
  {
   "cell_type": "code",
   "execution_count": 1,
   "id": "4b7636d4",
   "metadata": {},
   "outputs": [],
   "source": [
    "import numpy as np"
   ]
  },
  {
   "cell_type": "markdown",
   "id": "95d8b716",
   "metadata": {},
   "source": [
    "## Working with datasets: PANDAS\n",
    "The most commonly used tool in Python for working with data sets is Pandas [8]. It is a Python library with functions for analysing, cleaning, exploring and manipulating data. The codebase for Pandas is available at: https://github.com/pandas-dev/pandas.\n",
    "\n",
    "Before using Pandas it will need to be installed.  If you already have Spyder or Anaconda installed this already contains Pandas and you don't need to install it again. "
   ]
  },
  {
   "cell_type": "markdown",
   "id": "502a9ea3",
   "metadata": {},
   "source": [
    "An easy way to check if it is installed is to request the version number to be printed to the terminal [9]:"
   ]
  },
  {
   "cell_type": "code",
   "execution_count": 2,
   "id": "0d132d30",
   "metadata": {},
   "outputs": [
    {
     "ename": "NameError",
     "evalue": "name 'pd' is not defined",
     "output_type": "error",
     "traceback": [
      "\u001b[1;31m---------------------------------------------------------------------------\u001b[0m",
      "\u001b[1;31mNameError\u001b[0m                                 Traceback (most recent call last)",
      "\u001b[1;32m~\\AppData\\Local\\Temp\\ipykernel_3252\\3273829053.py\u001b[0m in \u001b[0;36m<module>\u001b[1;34m\u001b[0m\n\u001b[1;32m----> 1\u001b[1;33m \u001b[0mprint\u001b[0m\u001b[1;33m(\u001b[0m\u001b[0mpd\u001b[0m\u001b[1;33m.\u001b[0m\u001b[0m__version__\u001b[0m\u001b[1;33m)\u001b[0m\u001b[1;33m\u001b[0m\u001b[1;33m\u001b[0m\u001b[0m\n\u001b[0m",
      "\u001b[1;31mNameError\u001b[0m: name 'pd' is not defined"
     ]
    }
   ],
   "source": [
    "print(pd.__version__)"
   ]
  },
  {
   "cell_type": "markdown",
   "id": "0904fad8",
   "metadata": {},
   "source": [
    "Once it is installed it is added to applications by importing it, this is normally done under the alias pd:"
   ]
  },
  {
   "cell_type": "code",
   "execution_count": 24,
   "id": "563bda4a",
   "metadata": {},
   "outputs": [],
   "source": [
    "import pandas as pd\n"
   ]
  },
  {
   "cell_type": "markdown",
   "id": "d51edbeb",
   "metadata": {},
   "source": [
    "Pandas allows tabulated data such as csv to be imported as a data table, in Pandas this is called a `DataFrame` [10].  Pandas allows the importing of data from a variety of file formats or data sources using the format `read_` source type, eg `read_csv` will read in data from a csv file [11]. By default the first line of the file is assumed to be the header file. If the file does not have headers these can added by using names = \" \", \" \"]. \n",
    "\n",
    "The Fisher's Iris Dataset as published at https://archive.ics.uci.edu/ml/datasets/iris [4] does not contain headers as these need to be added when creating the DataFrame. The CSV file for the data is at https://archive.ics.uci.edu/ml/machine-learning-databases/iris/iris.data [12] and the details for the headers is in https://archive.ics.uci.edu/ml/machine-learning-databases/iris/iris.names [13]. \n",
    "\n",
    "Seeing as the column names will be used throughout this analysis I have created them as variables."
   ]
  },
  {
   "cell_type": "code",
   "execution_count": 25,
   "id": "ed609681",
   "metadata": {},
   "outputs": [],
   "source": [
    "sepallen = \"Sepal Length\"\n",
    "sepalwid = \"Sepal Width\"\n",
    "petallen = \"Petal Length\"\n",
    "petalwid = \"Petal Width\"\n",
    "species = \"Species\"\n",
    "\n",
    "datafields = sepallen, sepalwid, petallen, petalwid, species"
   ]
  },
  {
   "cell_type": "markdown",
   "id": "12a3f139",
   "metadata": {},
   "source": [
    "When importing the dataset we add the argument `names=` to add the correct header data. Our dataset is in a comma separated file so we use the command `read_csv` [11]."
   ]
  },
  {
   "cell_type": "code",
   "execution_count": 27,
   "id": "ebf679f1",
   "metadata": {},
   "outputs": [],
   "source": [
    "dataf = pd.read_csv(\"https://archive.ics.uci.edu/ml/machine-learning-databases/iris/iris.data\", \n",
    "                   names = datafields)"
   ]
  },
  {
   "cell_type": "markdown",
   "id": "137f6c33",
   "metadata": {},
   "source": [
    "A quick view of the data can be seen by printing `head()` [14] or `info()` [15]. Here I have used `info()` to confirm the column names, the number of entries in each column and the datatype."
   ]
  },
  {
   "cell_type": "code",
   "execution_count": null,
   "id": "27e122fc",
   "metadata": {},
   "outputs": [],
   "source": [
    "print (dataf.info())"
   ]
  },
  {
   "cell_type": "markdown",
   "id": "25edad62",
   "metadata": {},
   "source": [
    "The `info()` command has shown the data has no missing values. This is a useful step to check data before starting analysis.\n",
    "\n",
    "Running the `head()` command by default shows the first five rows [14]. A number can inserted in the brackets to show more data. If more rows are requested than the default max `head()` will truncate the list and suffix it with the last five rows. There is an opposite of the `head()` command called `tail()` that calls the last x number of rows [15]. "
   ]
  },
  {
   "cell_type": "code",
   "execution_count": null,
   "id": "b8c38209",
   "metadata": {},
   "outputs": [],
   "source": [
    "print(dataf.head(50))"
   ]
  },
  {
   "cell_type": "markdown",
   "id": "c094f4d6",
   "metadata": {},
   "source": [
    "If you need to increase the max number of rows that can be displayed this can be done with `options.display.max_rows` [17].  Although, you might find it easier to review the data in a text editor."
   ]
  },
  {
   "cell_type": "code",
   "execution_count": null,
   "id": "2284ad9d",
   "metadata": {},
   "outputs": [],
   "source": [
    "pd.options.display.max_rows = 160\n",
    "print (dataf)"
   ]
  },
  {
   "cell_type": "markdown",
   "id": "71fd772d",
   "metadata": {},
   "source": [
    "The above information can be used to identify columns with null values and the user can make decisions how to handle these, for example, the whole row could be removed or the missing value replaced with the mean for the column. Fisher's Iris data set is not missing any values. \n",
    "\n",
    "Another useful test is to check for duplicated values using the `duplicated()` [18]. "
   ]
  },
  {
   "cell_type": "code",
   "execution_count": null,
   "id": "2dc312b9",
   "metadata": {},
   "outputs": [],
   "source": [
    "print(dataf.duplicated())"
   ]
  },
  {
   "cell_type": "markdown",
   "id": "d0200cb6",
   "metadata": {},
   "source": [
    "Within Pandas there are methods to clean empty cells, change cell format, clean incorrect data and remove duplicates [19]. "
   ]
  },
  {
   "cell_type": "markdown",
   "id": "0e8782e4",
   "metadata": {},
   "source": [
    "Within Pandas basic statistics about data can be calculated using the describe command [20]."
   ]
  },
  {
   "cell_type": "code",
   "execution_count": null,
   "id": "a6763354",
   "metadata": {},
   "outputs": [],
   "source": [
    "print(dataf.describe())"
   ]
  },
  {
   "cell_type": "markdown",
   "id": "182cdfbb",
   "metadata": {},
   "source": [
    "## References for importing and checking data\n",
    "[7]: https://numpy.org/ \"NumPy [Internet]. [cited 2023 May 4]\".\n",
    "\n",
    "[8]: https://pandas.pydata.org/ \"pandas - Python Data Analysis Library [Internet]. [cited 2023 May 10]\".\n",
    "\n",
    "[9]: https://www.geeksforgeeks.org/find-the-version-of-the-pandas-and-its-dependencies/ \"Find the version of the Pandas and its dependencies - GeeksforGeeks [Internet]. [cited 2023 May 10]\".\n",
    "\n",
    "[10]: https://www.w3schools.com/python/pandas/pandas_dataframes.asp \"Pandas DataFrames [Internet]. [cited 2023 May 10]\".\n",
    "\n",
    "[11]: https://pandas.pydata.org/pandas-docs/stable/user_guide/io.html#csv-text-files \"IO tools (text, CSV, HDF5, …) — pandas 2.0.0 documentation [Internet]. [cited 2023 Apr 18]\".\n",
    "\n",
    "[12]: https://archive.ics.uci.edu/ml/machine-learning-databases/iris/iris.data.\n",
    "\n",
    "[13]: https://archive.ics.uci.edu/ml/machine-learning-databases/iris/iris.names.\n",
    "\n",
    "[14]: https://pandas.pydata.org/pandas-docs/stable/reference/api/pandas.DataFrame.head.html \"pandas.DataFrame.head — pandas 2.0.1 documentation [Internet]. [cited 2023 May 10]\".\n",
    "\n",
    "[15]: https://pandas.pydata.org/pandas-docs/stable/reference/api/pandas.DataFrame.info.html?highlight=info#pandas.DataFrame.info \"pandas.DataFrame.info — pandas 2.0.1 documentation [Internet]. [cited 2023 May 10]\". \n",
    "\n",
    "[16]: https://pandas.pydata.org/pandas-docs/stable/reference/api/pandas.DataFrame.tail.html?highlight=tail#pandas.DataFrame.tail \"pandas.DataFrame.tail — pandas 2.0.1 documentation [Internet]. [cited 2023 May 10]\". \n",
    "\n",
    "[17]: https://pandas.pydata.org/pandas-docs/stable/user_guide/options.html?highlight=max_rows \"Options and settings — pandas 2.0.1 documentation [Internet]. [cited 2023 May 10]\". \n",
    "\n",
    "[18]: https://pandas.pydata.org/pandas-docs/stable/reference/api/pandas.DataFrame.duplicated.html?highlight=duplicated#pandas.DataFrame.duplicated \"pandas.DataFrame.duplicated — pandas 2.0.1 documentation [Internet]. [cited 2023 May 10]\". \n",
    "\n",
    "[19]: https://datagy.io/pandas-data-cleaning \"Data Cleaning and Preparation in Pandas and Python • datagy [Internet]. [cited 2023 May 10]\". \n",
    "\n",
    "[20]: https://pandas.pydata.org/pandas-docs/stable/reference/api/pandas.DataFrame.describe.html?highlight=describe#pandas.DataFrame.describe \"pandas.DataFrame.describe — pandas 2.0.1 documentation [Internet]. [cited 2023 May 10]\"."
   ]
  },
  {
   "cell_type": "markdown",
   "id": "d6613028",
   "metadata": {},
   "source": [
    "# Outputting statistical analyses of data\n",
    "\n",
    "## Writing to a file\n",
    "Outputting information about the dataset to the terminal is useful in the early stages of investigating a data set and checking the DataFrame has been created properly, but it is much more useful to output statistical information to a text file.  This can be done with the `with open` command [21]. Variables being entered on single lines are added with `f.write()` and multiple lines [21] are added with `f.writelines()`. The variables must be converted into a string before they can be written to the file [22]. `F string` [23] can be used to help format the text for the file. Once all the text has been added to the file `f.close()` is used to close the file."
   ]
  },
  {
   "cell_type": "code",
   "execution_count": null,
   "id": "e501dbd9",
   "metadata": {},
   "outputs": [],
   "source": [
    "with open('Ztest.txt', 'w') as f:\n",
    "    min = dataf[petallen].min()\n",
    "    f.write(str(min))\n",
    "    f.close()"
   ]
  },
  {
   "cell_type": "markdown",
   "id": "ec9bdb35",
   "metadata": {},
   "source": [
    "If you wish to capture a DataFrame in a text file then the `Pandas.DataFrame.to_string` command is used [24]. This is really useful for outputting something like the Pandas `describe()` [20] function to a file."
   ]
  },
  {
   "cell_type": "code",
   "execution_count": null,
   "id": "cc7f962e",
   "metadata": {},
   "outputs": [],
   "source": [
    "with open('Ztest.txt', 'a') as f:\n",
    "  table = dataf.describe()\n",
    "  stringtable = table.to_string(header=True, index =True)\n",
    "  f.writelines(stringtable) \n",
    "  f.close()"
   ]
  },
  {
   "cell_type": "markdown",
   "id": "4a7b0a85",
   "metadata": {},
   "source": [
    "\n",
    "## Statistical analysis"
   ]
  },
  {
   "cell_type": "markdown",
   "id": "9b4f0f37",
   "metadata": {},
   "source": [
    "To look a particular column, known as a series in Pandas, within a DataFrame the following syntax is used `DataFrame[Series]`[25]. Using this format statistical information about the data can be evaluated and stored as a variable. With the statistical information being stored in individual variables this gives maximum control over how the information is laid out in the output. Escape characters like `\\n` which starts a new line can be used in this formatting [26]."
   ]
  },
  {
   "cell_type": "code",
   "execution_count": null,
   "id": "97404c80",
   "metadata": {},
   "outputs": [],
   "source": [
    "min = str(dataf[petallen].min())\n",
    "max = str(dataf[petallen].max())\n",
    "print(f'\\nThe minimum value is: {min}cm \\nThe maximum value is: {max}cm')"
   ]
  },
  {
   "cell_type": "markdown",
   "id": "025814b1",
   "metadata": {},
   "source": [
    "Instead of creating the individual analyses the `describe()` function could be used. For Fisher's Iris Dataset the `describe()` function is really useful for comparing the statistical information by species. To do this you first need to know the name of the iris species in the dataset. The `unique()` function in Pandas is great for this [28]."
   ]
  },
  {
   "cell_type": "code",
   "execution_count": null,
   "id": "abf09967",
   "metadata": {},
   "outputs": [],
   "source": [
    "irisspecies = dataf.Species.unique()\n",
    "print(irisspecies)"
   ]
  },
  {
   "cell_type": "markdown",
   "id": "be3326af",
   "metadata": {},
   "source": [
    "Then a subset of the whole set should be selected using one of the species names as the separator [26]. This information can be printed to a file using `to_string()` as described previously [25]."
   ]
  },
  {
   "cell_type": "code",
   "execution_count": null,
   "id": "35050e3d",
   "metadata": {},
   "outputs": [],
   "source": [
    "setosa = dataf[dataf[species] == \"Iris-setosa\"]\n",
    "describesetosa = setosa.describe()\n",
    "print(describesetosa.to_string(header=True, index =True))\n"
   ]
  },
  {
   "cell_type": "markdown",
   "id": "699ff906",
   "metadata": {},
   "source": [
    "## References for outputting statistical analyses of data\n",
    "[21]:  https://www.pythontutorial.net/python-basics/python-write-text-file/ \"How to Write to Text File in Python [Internet]. [cited 2023 May 8]\". \n",
    "\n",
    "[22]: https://realpython.com/python-strings/ \"Strings and Character Data in Python – Real Python [Internet]. [cited 2023 May 8]\".\n",
    "\n",
    "[23]: Python 3’s f-Strings: An Improved String Formatting Syntax (Guide) – Real Python [Internet]. [cited 2023 May 8]. Available from: https://realpython.com/python-f-strings/\n",
    "\n",
    "[24]: https://pandas.pydata.org/pandas-docs/stable/reference/api/pandas.DataFrame.to_string.html \"pandas.DataFrame.to_string — pandas 2.0.1 documentation [Internet]. [cited 2023 May 8]\".\n",
    "\n",
    "[25]: https://pandas.pydata.org/pandas-docs/stable/getting_started/intro_tutorials/03_subset_data.html \"How do I select a subset of a DataFrame? — pandas 2.0.0 documentation [Internet]. [cited 2023 Apr 22]\". \n",
    "\n",
    "[26]: https://www.w3schools.com/python/gloss_python_escape_characters.asp \"Python Escape Characters [Internet]. [cited 2023 May 8]\". \n",
    "\n",
    "[27]: https://www.geeksforgeeks.org/get-unique-values-from-a-column-in-pandas-dataframe/ \"Get unique values from a column in Pandas DataFrame - GeeksforGeeks [Internet]. [cited 2023 May 8]\".\n",
    "\n"
   ]
  },
  {
   "cell_type": "markdown",
   "id": "54bb6c56",
   "metadata": {},
   "source": [
    "# Plotting data\n",
    "Data visualisation helps makes complex data sources easier to understand via graphics. Matplotlib and Seaborn are the most commonly used data visualisation tools in Python.\n",
    "\n",
    "## Matplotlib\n",
    "Matplotlib is a library for the plotting of data [28](https://matplotlib.org/). It works alongside Pandas and Numpy. The codebase for Matplotlib is available at https://github.com/matplotlib/matplotlib. \n",
    "\n",
    "The figures can be interactive, the plots can be formatted and exported into a variety of formats. Matplotlib is normally imported under the alias 'plt'. Most of the Matplotlib utilities are in the pyplot sublibrary and therefore, it is often imported at this level. "
   ]
  },
  {
   "cell_type": "code",
   "execution_count": 16,
   "id": "4f016bf7",
   "metadata": {},
   "outputs": [],
   "source": [
    "import matplotlib.pyplot as plt"
   ]
  },
  {
   "cell_type": "markdown",
   "id": "d96de41e",
   "metadata": {},
   "source": [
    "## Seaborn\n",
    "Seaborn is also a Python library and it can make more complicated plots [29]. It is basically a more complicated overlay on matplotlib. There is extensive information available at: https://seaborn.pydata.org/index.html"
   ]
  },
  {
   "cell_type": "markdown",
   "id": "6b1d9082",
   "metadata": {},
   "source": [
    "## Matplotlib or Seaborn: Which is better?\n",
    "As is often the case with this question, the answer is, it depends on what you are trying to do. Matplotlib is good at making basic graphs including barcharts, piecharts and scatterplots. Seaborn is an extended version of matplotlib and uses matplotlib, pandas and numpy to make visualisations. The following table is based on the one at: https://www.geeksforgeeks.org/difference-between-matplotlib-vs-seaborn/ [30]. \n",
    "\n",
    "|Area |Matplotlib |Seaborn |\n",
    "|--|-----------|---------|\n",
    "|Function|Basic charts including bar charts, pie charts and scatter plots | More complicated plots. It can provide a plot of all data one plot.|\n",
    "|Syntax|Is quite lengthy eg matplotlib.pyplot.hist(x_axis, y_axis)|Is a little simpler and easier to learn eg seaborn.histplot(x_axis, y_axis)|\n",
    "|Multiple plots|Can open and use multiple plots at a time. Need to be closed.|Time set for the creation of each plot, this can lead to out of memory errors|\n",
    "|Visualisation|Provides similar output and syntax as MATLAB, so great for those already familiar with MATLAB| More comfortable at handling Pandas dataframes. Great variety of nice looking visualisations can be created|\n",
    "|Data frames and arrays|Works efficiently with data frames and arrays. Plot() can be called without parameters.|Whole data set is treated as a simple unit and parameters are needed when calling plot()."
   ]
  },
  {
   "cell_type": "markdown",
   "id": "f959f455",
   "metadata": {},
   "source": [
    "## References for plotting data\n",
    "[28]: https://matplotlib.org/ \"Matplotlib — Visualization with Python [Internet]. [cited 2023 Apr 18]\".\n",
    "\n",
    "[29]: https://seaborn.pydata.org/ \"Waskom M. seaborn: statistical data visualization. J Open Source Softw. 2021 Apr 6;6(60):3021\".\n",
    "\n",
    "[30]: https://www.geeksforgeeks.org/difference-between-matplotlib-vs-seaborn/ \"Difference Between Matplotlib VS Seaborn - GeeksforGeeks [Internet]. [cited 2023 May 8]\". "
   ]
  },
  {
   "cell_type": "markdown",
   "id": "98f40257",
   "metadata": {},
   "source": [
    "# Histogram of each variable\n",
    "There is a greate resource at : https://realpython.com/python-histograms/ [31] all about the different methods of creating histograms in Python.\n",
    "\n",
    "## Create simple histogram\n",
    "First I created a simple histogram using the Pandas `hist()` method [32]. This automatically creates a histogram of each variable and outputs them at one time.  From these plots you can see that Sepal Width appears to have normal type distribution and the rest contain more than one peak, but without separating the data into species, these plots are pretty useless in the quest to see if any of the variables have discriminating power in confirming the iris species of a particular plant.\n"
   ]
  },
  {
   "cell_type": "code",
   "execution_count": null,
   "id": "bd1825c3",
   "metadata": {},
   "outputs": [],
   "source": [
    "dataf.hist()\n",
    "plt.show()"
   ]
  },
  {
   "cell_type": "markdown",
   "id": "88ca1fea",
   "metadata": {},
   "source": [
    "The command to save the figure rather than output to the terminal is `plt.savefig()` [33] with the name you wish to use to save the file in the parentheses. "
   ]
  },
  {
   "cell_type": "markdown",
   "id": "e76510de",
   "metadata": {},
   "source": [
    "## Histogram showing species\n",
    "Next I used the Seaborn library [29] to create a more complicated histogram showing the species of the Iris. To do this import `seaborn`."
   ]
  },
  {
   "cell_type": "code",
   "execution_count": 21,
   "id": "3344633e",
   "metadata": {},
   "outputs": [],
   "source": [
    "import seaborn as sns"
   ]
  },
  {
   "cell_type": "markdown",
   "id": "b1ab7312",
   "metadata": {},
   "source": [
    "The command for creating a histplot in seaborn is `sns.histplot()` [34]. Parameters can be added to the call for a plot, there is great information about this at: https://seaborn.pydata.org/generated/seaborn.histplot.html?highlight=hist#seaborn.histplot. To colour by species add `hue=` and the correct column name. "
   ]
  },
  {
   "cell_type": "code",
   "execution_count": null,
   "id": "89d276dd",
   "metadata": {},
   "outputs": [],
   "source": [
    "sns.histplot(data=dataf, x=sepalwid, hue=species)\n",
    "plt.show()"
   ]
  },
  {
   "cell_type": "markdown",
   "id": "95c55f11",
   "metadata": {},
   "source": [
    "The above histogram for sepal width is still fairly hard to read, but indicates that Iris Setosa tends to have wider sepals than the other two species, particularly Iris Versicolour.\n",
    "\n",
    "When plotting histograms Seaborn automatically chooses the width of the bins or groups for the data [35]. The data in Fisher's Iris Dataset is presented to 0.1cm so the bin width could be set to 0.1 or 0.2 for conformity across plots. To improve how the chart looks axis labels and titles could be added using the Matplotlib `plt.xlabel`, `plt.ylabel` and `plt.title`. Here I am going to use the Seaborn technique [36](https://www.statology.org/seaborn-axis-labels/). "
   ]
  },
  {
   "cell_type": "code",
   "execution_count": null,
   "id": "f46749c2",
   "metadata": {},
   "outputs": [],
   "source": [
    "ax = sns.histplot(data=dataf, x=petalwid, hue=species, binwidth=0.1)\n",
    "ax.set(xlabel='Petal Width in cm',\n",
    "       ylabel='Count',\n",
    "       title='Histogram of the Petal Width of three species of Irises')\n",
    "plt.show()"
   ]
  },
  {
   "cell_type": "markdown",
   "id": "bea52276",
   "metadata": {},
   "source": [
    "## References for creating histograms\n",
    "[31]: https://realpython.com/python-histograms/ \"Python Histogram Plotting: NumPy, Matplotlib, pandas & Seaborn – Real Python [Internet]. [cited 2023 Apr 22]\". \n",
    "\n",
    "[32]: https://matplotlib.org/stable/gallery/statistics/hist.html \"Histograms — Matplotlib 3.7.1 documentation [Internet]. [cited 2023 May 8]\".\n",
    "\n",
    "[33]: https://matplotlib.org/stable/api/_as_gen/matplotlib.pyplot.savefig.html#matplotlib.pyplot.savefig \"matplotlib.pyplot.savefig — Matplotlib 3.7.1 documentation [Internet]. [cited 2023 May 8]\".\n",
    "\n",
    "[34]: https://seaborn.pydata.org/generated/seaborn.histplot.html?highlight=hist#seaborn.histplot \"seaborn.histplot — seaborn 0.12.2 documentation [Internet]. [cited 2023 May 8]\".\n",
    "\n",
    "[35]: https://datagy.io/seaborn-histplot/ \"Seaborn histplot - Creating Histograms in Seaborn • datagy [Internet]. [cited 2023 May 10]\".\n",
    "\n",
    "[36]: https://www.w3schools.com/python/matplotlib_labels.asp \"Matplotlib Labels and Title [Internet]. [cited 2023 May 10]\".\n",
    "\n",
    "[37]: https://www.statology.org/seaborn-axis-labels/ \"How to Change Axis Labels on a Seaborn Plot (With Examples) [Internet]. [cited 2023 May 10]\"."
   ]
  },
  {
   "cell_type": "markdown",
   "id": "6e53740c",
   "metadata": {},
   "source": [
    "# Scatterplots of pairs of variables\n",
    "Scatterplots are used to show the relationship between two variables and can be created in Matplotlib, Pandas and Seaborn.\n",
    "\n",
    "## Scatterplot in Pandas\n",
    "The format to call a scatterplot in Pandas is `DataFrame.plot.scatter()` [38]. The parameteres are:\n",
    "x: column of data to be used for the horizontal coordinates for the datapoints\n",
    "y: column of data to be used for the vertical coordinates for the datapoints\n",
    "s: size of dots\n",
    "c: colour of dots\n"
   ]
  },
  {
   "cell_type": "code",
   "execution_count": null,
   "id": "5d3ccb30",
   "metadata": {},
   "outputs": [],
   "source": [
    "dataf.plot.scatter(x = petallen, y = petalwid, s = 10)"
   ]
  },
  {
   "cell_type": "markdown",
   "id": "05b023e0",
   "metadata": {},
   "source": [
    "This scatterplot shows there is a linear correlation between the petal width and petal length. This can be confirmed with the Pandas method `DataFrame.corr()` [39]. Where a correlation of 1 shows perfect correlation. A negative number means that as one number went up the other went down. A postive means that as one number increased the other goes up as well. Values over 0.8 or -0.8 are often seen as good correlation [40](https://www.w3schools.com/python/pandas/pandas_correlations.asp). "
   ]
  },
  {
   "cell_type": "code",
   "execution_count": null,
   "id": "e3c06f12",
   "metadata": {},
   "outputs": [],
   "source": [
    "dataf.corr()"
   ]
  },
  {
   "cell_type": "markdown",
   "id": "3f167d2f",
   "metadata": {},
   "source": [
    "## Scatterplot in Matplotlib\n"
   ]
  },
  {
   "cell_type": "code",
   "execution_count": null,
   "id": "0dd29808",
   "metadata": {},
   "outputs": [],
   "source": [
    "plt.scatter(x = dataf['Petal Length'], y = dataf['Petal Width'])\n",
    "plt.show()"
   ]
  },
  {
   "cell_type": "markdown",
   "id": "b0dc2ed2",
   "metadata": {},
   "source": [
    "There is not a simple way in Pandas or Matplotlib to colour a scatterplot by the category in another column. This is where Seaborn can make life easier.\n",
    "\n",
    "## Scatterplot in Seaborn\n",
    "Seaborn's added complexity makes creating bespoke scatterplots quite straightforward using the command `Seaborn.scatterplot()` [42](https://seaborn.pydata.org/generated/seaborn.scatterplot.html]. "
   ]
  },
  {
   "cell_type": "code",
   "execution_count": null,
   "id": "e8d627fc",
   "metadata": {
    "scrolled": true
   },
   "outputs": [],
   "source": [
    "ax = sns.scatterplot(data=dataf, x=petallen, y=petalwid, hue=species)\n",
    "ax.set(xlabel='Petal Length in cm',\n",
    "       ylabel='Petal Width in cm',\n",
    "       title='Scatterplot of the Petal Width versus Petal Length of three species of Irises')"
   ]
  },
  {
   "cell_type": "markdown",
   "id": "17be3f7e",
   "metadata": {},
   "source": [
    "Adding the colour by species has clearly shown the the three species are clearly separated by these value pairs with very little overlap."
   ]
  },
  {
   "cell_type": "markdown",
   "id": "10ea997f",
   "metadata": {},
   "source": [
    "## Pairplot in Seaborn\n",
    "A simple way to create multiple scatterplots for a DataFrame is to use the Seaborn PairPlot [43]. This automatically plots each variable pair as a scatter plot and a layered Kernel Density Estimate (KDE) [44] for the univariate plots. "
   ]
  },
  {
   "cell_type": "code",
   "execution_count": null,
   "id": "deef2fc3",
   "metadata": {},
   "outputs": [],
   "source": [
    "sns.pairplot(data=dataf, hue=species)"
   ]
  },
  {
   "cell_type": "markdown",
   "id": "5ed00dd2",
   "metadata": {},
   "source": [
    "Across these plots, it can be seen that the data for Iris Setosa is easily separable from the other iris species across the majority of the plots.\n",
    "\n",
    "The KDE can be changed to a histogram using the option `diag_kind=\"hist\"` [43]."
   ]
  },
  {
   "cell_type": "code",
   "execution_count": null,
   "id": "b5a4a158",
   "metadata": {},
   "outputs": [],
   "source": [
    "sns.pairplot(dataf, hue=species, diag_kind=\"hist\")"
   ]
  },
  {
   "cell_type": "markdown",
   "id": "cf237105",
   "metadata": {},
   "source": [
    "## References for scatter plots\n",
    "[38]: https://pandas.pydata.org/pandas-docs/stable/reference/api/pandas.DataFrame.plot.scatter.html\n",
    " \"pandas.DataFrame.plot.scatter — pandas 2.0.1 documentation [Internet]. [cited 2023 May 10]\".\n",
    " \n",
    "[39]: https://pandas.pydata.org/pandas-docs/stable/reference/api/pandas.DataFrame.corr.html \"pandas.DataFrame.corr — pandas 2.0.1 documentation [Internet]. [cited 2023 May 10]\".\n",
    "\n",
    "[40]: https://www.w3schools.com/python/pandas/pandas_correlations.asp \"Pandas - Data Correlations [Internet]. [cited 2023 May 10]\".\n",
    "\n",
    "[41]: https://matplotlib.org/stable/api/_as_gen/matplotlib.pyplot.scatter.html \"matplotlib.pyplot.scatter — Matplotlib 3.7.1 documentation [Internet]. [cited 2023 May 10]\".\n",
    "\n",
    "[42]: https://seaborn.pydata.org/generated/seaborn.scatterplot.html \"seaborn.scatterplot — seaborn 0.12.2 documentation [Internet]. [cited 2023 May 10]\".\n",
    "\n",
    "[43]: https://seaborn.pydata.org/generated/seaborn.pairplot.html \"seaborn.pairplot — seaborn 0.12.2 documentation [Internet]. [cited 2023 May 10]\".\n",
    "\n",
    "[44]: https://en.wikipedia.org/wiki/Kernel_density_estimation \"Kernel density estimation - Wikipedia [Internet]. [cited 2023 May 10]\"."
   ]
  },
  {
   "cell_type": "markdown",
   "id": "f706b937",
   "metadata": {},
   "source": [
    "# Interesting further analyses\n",
    "## Box Plot\n",
    "Boxplots are very useful for giving a visual representation of the statistical information about some data. Pandas Boxplot automatically creates the plots from a DataFrame [45]. In one fairly simple looking chart the major statistical data is presented visually. The box on the plot shows the centre 50% of data points with the green line being the median. The start line of the box is at the first quartile (25% of the datapoints) and the end of the box is at the third puartile (75% of datapoints). The end of the 'whiskers' is calculated at the last data point within 1.5. of the interquartile range. The interquartile range or IQR is the distance between the first and third quartiles. Anything beyond 1.5 times the IQR is considered an outlier. There is a good description of this type of plot at: https://chartio.com/learn/charts/box-plot-complete-guide/ [46]."
   ]
  },
  {
   "attachments": {
    "box-and-whisker-plot-2.jpg": {
     "image/jpeg": "[encoded data removed]"
    }
   },
   "cell_type": "markdown",
   "id": "f8b6eac1",
   "metadata": {},
   "source": [
    "![box-and-whisker-plot-2.jpg](attachment:box-and-whisker-plot-2.jpg)"
   ]
  },
  {
   "cell_type": "markdown",
   "id": "db7a49b7",
   "metadata": {},
   "source": [
    "Diagram is reproduced from https://aiaspirant.com/box-plot/"
   ]
  },
  {
   "cell_type": "code",
   "execution_count": null,
   "id": "e66a751b",
   "metadata": {},
   "outputs": [],
   "source": [
    "dataf.boxplot(by=species)"
   ]
  },
  {
   "cell_type": "markdown",
   "id": "6132e186",
   "metadata": {},
   "source": [
    "The default figure sizing means that the species labels are overlapping making them unreadable, so I increased it to 11 by 11. "
   ]
  },
  {
   "cell_type": "code",
   "execution_count": null,
   "id": "bbc91cce",
   "metadata": {},
   "outputs": [],
   "source": [
    "dataf.boxplot(by=species, figsize=(11,11))"
   ]
  },
  {
   "cell_type": "markdown",
   "id": "695f2b33",
   "metadata": {},
   "source": [
    "## Creating boxplots as subplots\n",
    "Using the method above to create a box is quick, but it can be a little tricky to get the plot in exactly the format you wish. Therefore, I have included an additional option using the subplot function [47]. \n",
    "\n",
    "Rather than using the if name !=species as used previously, I am going to create a new variable to iterate through. This variable is created by slicing the first four variables from the datafields tuple [48]. This can be simpler and enables the same variable name to be used throughout scripts."
   ]
  },
  {
   "cell_type": "code",
   "execution_count": 10,
   "id": "e4e2ca29",
   "metadata": {},
   "outputs": [],
   "source": [
    "chartvariables = datafields[:4]"
   ]
  },
  {
   "cell_type": "markdown",
   "id": "749489c6",
   "metadata": {},
   "source": [
    "To ensure the subplots went to the correct axis I created a positional argument a and set it to one. This was increased by one after each subplot was created. This meant the first plot of data goes to subplot 1 and the second to subplot 2 and so on.\n",
    "\n",
    "The sub-plots were created with a for loop. The subplots use Seaborn boxplot [50] with the parameters to plot by species on the x axis and the current iterator on the y axis. I used Matplotlib's ylabel to create the y label. An f string was used to format the y label. The positional variable was then increased by one to ensure the next set of data went to the next set of axes.\n",
    "\n",
    " \n",
    "\n",
    "\n",
    "\n",
    "This creates the sub-plots in a 2 by 2 grid [[33]] in the constrained layout [[35]] which automatically tries to layout the plots in a way where labels and titles do not overlap.\n",
    "\n",
    "Then I used suptitle to create an overall title for the plot [[30]]."
   ]
  },
  {
   "cell_type": "code",
   "execution_count": 28,
   "id": "6cc831be",
   "metadata": {},
   "outputs": [
    {
     "data": {
      "image/png": "[encoded data removed]",
      "text/plain": [
       "<Figure size 640x480 with 4 Axes>"
      ]
     },
     "metadata": {},
     "output_type": "display_data"
    }
   ],
   "source": [
    " a = 1\n",
    "for name in chartvariables:\n",
    "     plt.subplot(2,2,a)\n",
    "     sns.boxplot(data=dataf, x=species, y=name)\n",
    "     plt.ylabel(f'{name} in cm')\n",
    "     a += 1"
   ]
  },
  {
   "cell_type": "markdown",
   "id": "adf0751c",
   "metadata": {},
   "source": [
    "However, the labels overlapped making it very hard to read. The 'constrained' layout can help with the [49]."
   ]
  },
  {
   "cell_type": "code",
   "execution_count": 31,
   "id": "02a50a14",
   "metadata": {},
   "outputs": [
    {
     "data": {
      "image/png": "[encoded data removed]",
      "text/plain": [
       "<Figure size 640x480 with 4 Axes>"
      ]
     },
     "metadata": {},
     "output_type": "display_data"
    }
   ],
   "source": [
    "fig, axs = plt.subplots(nrows=2, ncols=2, layout='constrained')\n",
    "a = 1\n",
    "for name in chartvariables:\n",
    "     plt.subplot(2,2,a)\n",
    "     sns.boxplot(data=dataf, x=species, y=name)\n",
    "     plt.ylabel(f'{name} in cm')\n",
    "     a += 1"
   ]
  },
  {
   "cell_type": "markdown",
   "id": "2141436f",
   "metadata": {},
   "source": [
    "## Violin Plot\n",
    "A violin plot shows the distribution of data in a unique way [51]. To create the violinplot I used Seaborn [52]. Defining the `x` parameter as species, splits the data by species in each of the plots. The black line in the centre of each plot is a bar plot. Where the coloured area is wider there is a greater frequency of this value occurring."
   ]
  },
  {
   "cell_type": "code",
   "execution_count": 123,
   "id": "40d37eae",
   "metadata": {
    "scrolled": true
   },
   "outputs": [
    {
     "data": {
      "text/plain": [
       "<AxesSubplot:xlabel='Species', ylabel='Petal Length'>"
      ]
     },
     "execution_count": 123,
     "metadata": {},
     "output_type": "execute_result"
    },
    {
     "data": {
      "image/png": "[encoded data removed]",
      "text/plain": [
       "<Figure size 640x480 with 1 Axes>"
      ]
     },
     "metadata": {},
     "output_type": "display_data"
    }
   ],
   "source": [
    "sns.violinplot(data=dataf, x=species, y=petallen)"
   ]
  },
  {
   "cell_type": "markdown",
   "id": "8a6ce3d0",
   "metadata": {},
   "source": [
    "## References for further analyses\n",
    "[45]: https://pandas.pydata.org/pandas-docs/stable/reference/api/pandas.DataFrame.boxplot.html \"pandas.DataFrame.boxplot — pandas 2.0.1 documentation [Internet]. [cited 2023 May 8]\".\n",
    "\n",
    "[46]: https://chartio.com/learn/charts/box-plot-complete-guide/ \"A Complete Guide to Box Plots | Tutorial by Chartio [Internet]. [cited 2023 May 10]\".\n",
    "\n",
    "[47]: https://www.statology.org/pandas-subplots/ \"Pandas: How to Plot Multiple DataFrames in Subplots - Statology [Internet]. [cited 2023 May 11]\".\n",
    "\n",
    "[48]: tuples/https://www.statology.org/pandas-subplots/ \"Python Tuples - GeeksforGeeks [Internet]. [cited 2023 May 11]\".\n",
    "\n",
    "[49]: https://matplotlib.org/stable/tutorials/intermediate/constrainedlayout_guide.html \"Constrained Layout Guide — Matplotlib 3.7.1 documentation [Internet]. [cited 2023 May 11]\".\n",
    "[50]: https://seaborn.pydata.org/generated/seaborn.boxplot.html \"Seaborn.boxplot — seaborn 0.12.2 documentation [Internet]. [cited 2023 May 11]\". \n",
    "\n",
    "[51]: https://chartio.com/learn/charts/violin-plot-complete-guide/ \"Complete Guide to Violin Plots | Tutorial by Chartio [Internet]. [cited 2023 May 9]\".\n",
    "\n",
    "[52]: https://seaborn.pydata.org/generated/seaborn.violinplot.html \"seaborn.violinplot — seaborn 0.12.2 documentation [Internet]. [cited 2023 May 8]\"."
   ]
  },
  {
   "cell_type": "markdown",
   "id": "028278ef",
   "metadata": {},
   "source": [
    "# Further work\n",
    "The Fisher Iris Dataset is also commonly used in early stages of machine learning. Machine learning [49] is the:\n",
    ">the process of computers changing the way they carry out tasks by learning from new data, without a human being needing to give instructions in the form of a program.\" (https://dictionary.cambridge.org/dictionary/english/machine-learning)\n",
    " \n",
    "By presenting some of the dataset to the script to 'learn' from then other data can be presented and the script can try to ascribe the correct species.\n",
    "\n",
    "## References for further work\n",
    "[49]: https://dictionary.cambridge.org/dictionary/english/machine-learning \"MACHINE LEARNING | English meaning - Cambridge Dictionary [Internet]. [cited 2023 May 10]\".\n",
    "\n",
    "[50]: https://mitsloan.mit.edu/ideas-made-to-matter/machine-learning-explained \"Machine learning, explained | MIT Sloan [Internet]. [cited 2023 May 10]\"."
   ]
  }
 ],
 "metadata": {
  "kernelspec": {
   "display_name": "Python 3 (ipykernel)",
   "language": "python",
   "name": "python3"
  },
  "language_info": {
   "codemirror_mode": {
    "name": "ipython",
    "version": 3
   },
   "file_extension": ".py",
   "mimetype": "text/x-python",
   "name": "python",
   "nbconvert_exporter": "python",
   "pygments_lexer": "ipython3",
   "version": "3.9.13"
  }
 },
 "nbformat": 4,
 "nbformat_minor": 5
}
